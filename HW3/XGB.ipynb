{
 "cells": [
  {
   "cell_type": "code",
   "execution_count": 2,
   "metadata": {
    "id": "uJ77CTJrSTjO"
   },
   "outputs": [],
   "source": [
    "import pandas as pd\n",
    "import seaborn as sns\n",
    "import numpy as np\n",
    "import matplotlib.pyplot as plt\n",
    "from sklearn.model_selection import train_test_split"
   ]
  },
  {
   "cell_type": "markdown",
   "metadata": {
    "id": "afwN5xNUhTSw"
   },
   "source": [
    "# Splitting Data into Train/Test"
   ]
  },
  {
   "cell_type": "code",
   "execution_count": 10,
   "metadata": {
    "colab": {
     "base_uri": "https://localhost:8080/",
     "height": 256
    },
    "id": "F_RV5ds4TKDQ",
    "outputId": "d9ee18cc-5f18-4622-c937-b6c5372c4200"
   },
   "outputs": [
    {
     "data": {
      "text/html": [
       "<div>\n",
       "<style scoped>\n",
       "    .dataframe tbody tr th:only-of-type {\n",
       "        vertical-align: middle;\n",
       "    }\n",
       "\n",
       "    .dataframe tbody tr th {\n",
       "        vertical-align: top;\n",
       "    }\n",
       "\n",
       "    .dataframe thead th {\n",
       "        text-align: right;\n",
       "    }\n",
       "</style>\n",
       "<table border=\"1\" class=\"dataframe\">\n",
       "  <thead>\n",
       "    <tr style=\"text-align: right;\">\n",
       "      <th></th>\n",
       "      <th>Diabetes_binary</th>\n",
       "      <th>HighBP</th>\n",
       "      <th>HighChol</th>\n",
       "      <th>CholCheck</th>\n",
       "      <th>BMI</th>\n",
       "      <th>Smoker</th>\n",
       "      <th>Stroke</th>\n",
       "      <th>HeartDiseaseorAttack</th>\n",
       "      <th>PhysActivity</th>\n",
       "      <th>Fruits</th>\n",
       "      <th>...</th>\n",
       "      <th>AnyHealthcare</th>\n",
       "      <th>NoDocbcCost</th>\n",
       "      <th>GenHlth</th>\n",
       "      <th>MentHlth</th>\n",
       "      <th>PhysHlth</th>\n",
       "      <th>DiffWalk</th>\n",
       "      <th>Sex</th>\n",
       "      <th>Age</th>\n",
       "      <th>Education</th>\n",
       "      <th>Income</th>\n",
       "    </tr>\n",
       "  </thead>\n",
       "  <tbody>\n",
       "    <tr>\n",
       "      <th>0</th>\n",
       "      <td>0.0</td>\n",
       "      <td>1.0</td>\n",
       "      <td>0.0</td>\n",
       "      <td>1.0</td>\n",
       "      <td>26.0</td>\n",
       "      <td>0.0</td>\n",
       "      <td>0.0</td>\n",
       "      <td>0.0</td>\n",
       "      <td>1.0</td>\n",
       "      <td>0.0</td>\n",
       "      <td>...</td>\n",
       "      <td>1.0</td>\n",
       "      <td>0.0</td>\n",
       "      <td>3.0</td>\n",
       "      <td>5.0</td>\n",
       "      <td>30.0</td>\n",
       "      <td>0.0</td>\n",
       "      <td>1.0</td>\n",
       "      <td>4.0</td>\n",
       "      <td>6.0</td>\n",
       "      <td>8.0</td>\n",
       "    </tr>\n",
       "    <tr>\n",
       "      <th>1</th>\n",
       "      <td>0.0</td>\n",
       "      <td>1.0</td>\n",
       "      <td>1.0</td>\n",
       "      <td>1.0</td>\n",
       "      <td>26.0</td>\n",
       "      <td>1.0</td>\n",
       "      <td>1.0</td>\n",
       "      <td>0.0</td>\n",
       "      <td>0.0</td>\n",
       "      <td>1.0</td>\n",
       "      <td>...</td>\n",
       "      <td>1.0</td>\n",
       "      <td>0.0</td>\n",
       "      <td>3.0</td>\n",
       "      <td>0.0</td>\n",
       "      <td>0.0</td>\n",
       "      <td>0.0</td>\n",
       "      <td>1.0</td>\n",
       "      <td>12.0</td>\n",
       "      <td>6.0</td>\n",
       "      <td>8.0</td>\n",
       "    </tr>\n",
       "    <tr>\n",
       "      <th>2</th>\n",
       "      <td>0.0</td>\n",
       "      <td>0.0</td>\n",
       "      <td>0.0</td>\n",
       "      <td>1.0</td>\n",
       "      <td>26.0</td>\n",
       "      <td>0.0</td>\n",
       "      <td>0.0</td>\n",
       "      <td>0.0</td>\n",
       "      <td>1.0</td>\n",
       "      <td>1.0</td>\n",
       "      <td>...</td>\n",
       "      <td>1.0</td>\n",
       "      <td>0.0</td>\n",
       "      <td>1.0</td>\n",
       "      <td>0.0</td>\n",
       "      <td>10.0</td>\n",
       "      <td>0.0</td>\n",
       "      <td>1.0</td>\n",
       "      <td>13.0</td>\n",
       "      <td>6.0</td>\n",
       "      <td>8.0</td>\n",
       "    </tr>\n",
       "    <tr>\n",
       "      <th>3</th>\n",
       "      <td>0.0</td>\n",
       "      <td>1.0</td>\n",
       "      <td>1.0</td>\n",
       "      <td>1.0</td>\n",
       "      <td>28.0</td>\n",
       "      <td>1.0</td>\n",
       "      <td>0.0</td>\n",
       "      <td>0.0</td>\n",
       "      <td>1.0</td>\n",
       "      <td>1.0</td>\n",
       "      <td>...</td>\n",
       "      <td>1.0</td>\n",
       "      <td>0.0</td>\n",
       "      <td>3.0</td>\n",
       "      <td>0.0</td>\n",
       "      <td>3.0</td>\n",
       "      <td>0.0</td>\n",
       "      <td>1.0</td>\n",
       "      <td>11.0</td>\n",
       "      <td>6.0</td>\n",
       "      <td>8.0</td>\n",
       "    </tr>\n",
       "    <tr>\n",
       "      <th>4</th>\n",
       "      <td>0.0</td>\n",
       "      <td>0.0</td>\n",
       "      <td>0.0</td>\n",
       "      <td>1.0</td>\n",
       "      <td>29.0</td>\n",
       "      <td>1.0</td>\n",
       "      <td>0.0</td>\n",
       "      <td>0.0</td>\n",
       "      <td>1.0</td>\n",
       "      <td>1.0</td>\n",
       "      <td>...</td>\n",
       "      <td>1.0</td>\n",
       "      <td>0.0</td>\n",
       "      <td>2.0</td>\n",
       "      <td>0.0</td>\n",
       "      <td>0.0</td>\n",
       "      <td>0.0</td>\n",
       "      <td>0.0</td>\n",
       "      <td>8.0</td>\n",
       "      <td>5.0</td>\n",
       "      <td>8.0</td>\n",
       "    </tr>\n",
       "  </tbody>\n",
       "</table>\n",
       "<p>5 rows × 22 columns</p>\n",
       "</div>"
      ],
      "text/plain": [
       "   Diabetes_binary  HighBP  HighChol  CholCheck   BMI  Smoker  Stroke  \\\n",
       "0              0.0     1.0       0.0        1.0  26.0     0.0     0.0   \n",
       "1              0.0     1.0       1.0        1.0  26.0     1.0     1.0   \n",
       "2              0.0     0.0       0.0        1.0  26.0     0.0     0.0   \n",
       "3              0.0     1.0       1.0        1.0  28.0     1.0     0.0   \n",
       "4              0.0     0.0       0.0        1.0  29.0     1.0     0.0   \n",
       "\n",
       "   HeartDiseaseorAttack  PhysActivity  Fruits  ...  AnyHealthcare  \\\n",
       "0                   0.0           1.0     0.0  ...            1.0   \n",
       "1                   0.0           0.0     1.0  ...            1.0   \n",
       "2                   0.0           1.0     1.0  ...            1.0   \n",
       "3                   0.0           1.0     1.0  ...            1.0   \n",
       "4                   0.0           1.0     1.0  ...            1.0   \n",
       "\n",
       "   NoDocbcCost  GenHlth  MentHlth  PhysHlth  DiffWalk  Sex   Age  Education  \\\n",
       "0          0.0      3.0       5.0      30.0       0.0  1.0   4.0        6.0   \n",
       "1          0.0      3.0       0.0       0.0       0.0  1.0  12.0        6.0   \n",
       "2          0.0      1.0       0.0      10.0       0.0  1.0  13.0        6.0   \n",
       "3          0.0      3.0       0.0       3.0       0.0  1.0  11.0        6.0   \n",
       "4          0.0      2.0       0.0       0.0       0.0  0.0   8.0        5.0   \n",
       "\n",
       "   Income  \n",
       "0     8.0  \n",
       "1     8.0  \n",
       "2     8.0  \n",
       "3     8.0  \n",
       "4     8.0  \n",
       "\n",
       "[5 rows x 22 columns]"
      ]
     },
     "execution_count": 10,
     "metadata": {},
     "output_type": "execute_result"
    }
   ],
   "source": [
    "df = pd.read_csv('./diabetes_binary_5050split_health_indicators_BRFSS2015.csv')\n",
    "df.head()"
   ]
  },
  {
   "cell_type": "code",
   "execution_count": 11,
   "metadata": {
    "colab": {
     "base_uri": "https://localhost:8080/"
    },
    "id": "DHyGn8r8hkgQ",
    "outputId": "18b5a56a-488f-46d1-b257-c883c7cdfa15"
   },
   "outputs": [
    {
     "name": "stdout",
     "output_type": "stream",
     "text": [
      "Training dimesion: (56553, 21) (56553,)\n",
      "Test: (14139, 21) (14139, 21)\n"
     ]
    }
   ],
   "source": [
    "X = df.iloc[:, 1:]\n",
    "y = df.iloc[:, 0]\n",
    "\n",
    "x_train, x_test, y_train, y_test = train_test_split(X, y, test_size=0.2, random_state=22)\n",
    "\n",
    "print(\"Training dimesion: \" + str(x_train.shape) + \" \"  + str(y_train.shape))\n",
    "print(\"Test: \" + str(x_test.shape) + \" \"  + str(x_test.shape))"
   ]
  },
  {
   "cell_type": "code",
   "execution_count": 12,
   "metadata": {
    "colab": {
     "base_uri": "https://localhost:8080/",
     "height": 444
    },
    "id": "q5rAsqPllPkO",
    "outputId": "b7771ae1-f6c8-4efb-8f54-09f90008f993"
   },
   "outputs": [
    {
     "data": {
      "text/html": [
       "<div>\n",
       "<style scoped>\n",
       "    .dataframe tbody tr th:only-of-type {\n",
       "        vertical-align: middle;\n",
       "    }\n",
       "\n",
       "    .dataframe tbody tr th {\n",
       "        vertical-align: top;\n",
       "    }\n",
       "\n",
       "    .dataframe thead th {\n",
       "        text-align: right;\n",
       "    }\n",
       "</style>\n",
       "<table border=\"1\" class=\"dataframe\">\n",
       "  <thead>\n",
       "    <tr style=\"text-align: right;\">\n",
       "      <th></th>\n",
       "      <th>HighBP</th>\n",
       "      <th>HighChol</th>\n",
       "      <th>CholCheck</th>\n",
       "      <th>BMI</th>\n",
       "      <th>Smoker</th>\n",
       "      <th>Stroke</th>\n",
       "      <th>HeartDiseaseorAttack</th>\n",
       "      <th>PhysActivity</th>\n",
       "      <th>Fruits</th>\n",
       "      <th>Veggies</th>\n",
       "      <th>...</th>\n",
       "      <th>AnyHealthcare</th>\n",
       "      <th>NoDocbcCost</th>\n",
       "      <th>GenHlth</th>\n",
       "      <th>MentHlth</th>\n",
       "      <th>PhysHlth</th>\n",
       "      <th>DiffWalk</th>\n",
       "      <th>Sex</th>\n",
       "      <th>Age</th>\n",
       "      <th>Education</th>\n",
       "      <th>Income</th>\n",
       "    </tr>\n",
       "  </thead>\n",
       "  <tbody>\n",
       "    <tr>\n",
       "      <th>39727</th>\n",
       "      <td>1.0</td>\n",
       "      <td>1.0</td>\n",
       "      <td>1.0</td>\n",
       "      <td>30.0</td>\n",
       "      <td>1.0</td>\n",
       "      <td>0.0</td>\n",
       "      <td>0.0</td>\n",
       "      <td>1.0</td>\n",
       "      <td>1.0</td>\n",
       "      <td>0.0</td>\n",
       "      <td>...</td>\n",
       "      <td>1.0</td>\n",
       "      <td>0.0</td>\n",
       "      <td>3.0</td>\n",
       "      <td>0.0</td>\n",
       "      <td>0.0</td>\n",
       "      <td>0.0</td>\n",
       "      <td>1.0</td>\n",
       "      <td>12.0</td>\n",
       "      <td>4.0</td>\n",
       "      <td>5.0</td>\n",
       "    </tr>\n",
       "    <tr>\n",
       "      <th>21136</th>\n",
       "      <td>0.0</td>\n",
       "      <td>0.0</td>\n",
       "      <td>1.0</td>\n",
       "      <td>35.0</td>\n",
       "      <td>0.0</td>\n",
       "      <td>0.0</td>\n",
       "      <td>0.0</td>\n",
       "      <td>1.0</td>\n",
       "      <td>1.0</td>\n",
       "      <td>1.0</td>\n",
       "      <td>...</td>\n",
       "      <td>1.0</td>\n",
       "      <td>1.0</td>\n",
       "      <td>3.0</td>\n",
       "      <td>30.0</td>\n",
       "      <td>15.0</td>\n",
       "      <td>0.0</td>\n",
       "      <td>0.0</td>\n",
       "      <td>5.0</td>\n",
       "      <td>5.0</td>\n",
       "      <td>5.0</td>\n",
       "    </tr>\n",
       "    <tr>\n",
       "      <th>3591</th>\n",
       "      <td>0.0</td>\n",
       "      <td>1.0</td>\n",
       "      <td>1.0</td>\n",
       "      <td>30.0</td>\n",
       "      <td>1.0</td>\n",
       "      <td>0.0</td>\n",
       "      <td>0.0</td>\n",
       "      <td>1.0</td>\n",
       "      <td>1.0</td>\n",
       "      <td>0.0</td>\n",
       "      <td>...</td>\n",
       "      <td>1.0</td>\n",
       "      <td>0.0</td>\n",
       "      <td>3.0</td>\n",
       "      <td>0.0</td>\n",
       "      <td>0.0</td>\n",
       "      <td>0.0</td>\n",
       "      <td>1.0</td>\n",
       "      <td>11.0</td>\n",
       "      <td>6.0</td>\n",
       "      <td>6.0</td>\n",
       "    </tr>\n",
       "    <tr>\n",
       "      <th>12127</th>\n",
       "      <td>1.0</td>\n",
       "      <td>0.0</td>\n",
       "      <td>1.0</td>\n",
       "      <td>30.0</td>\n",
       "      <td>1.0</td>\n",
       "      <td>0.0</td>\n",
       "      <td>0.0</td>\n",
       "      <td>1.0</td>\n",
       "      <td>1.0</td>\n",
       "      <td>1.0</td>\n",
       "      <td>...</td>\n",
       "      <td>1.0</td>\n",
       "      <td>0.0</td>\n",
       "      <td>2.0</td>\n",
       "      <td>0.0</td>\n",
       "      <td>0.0</td>\n",
       "      <td>0.0</td>\n",
       "      <td>0.0</td>\n",
       "      <td>5.0</td>\n",
       "      <td>6.0</td>\n",
       "      <td>8.0</td>\n",
       "    </tr>\n",
       "    <tr>\n",
       "      <th>34337</th>\n",
       "      <td>0.0</td>\n",
       "      <td>0.0</td>\n",
       "      <td>1.0</td>\n",
       "      <td>38.0</td>\n",
       "      <td>0.0</td>\n",
       "      <td>0.0</td>\n",
       "      <td>0.0</td>\n",
       "      <td>1.0</td>\n",
       "      <td>1.0</td>\n",
       "      <td>1.0</td>\n",
       "      <td>...</td>\n",
       "      <td>1.0</td>\n",
       "      <td>0.0</td>\n",
       "      <td>3.0</td>\n",
       "      <td>0.0</td>\n",
       "      <td>3.0</td>\n",
       "      <td>1.0</td>\n",
       "      <td>1.0</td>\n",
       "      <td>10.0</td>\n",
       "      <td>6.0</td>\n",
       "      <td>8.0</td>\n",
       "    </tr>\n",
       "    <tr>\n",
       "      <th>...</th>\n",
       "      <td>...</td>\n",
       "      <td>...</td>\n",
       "      <td>...</td>\n",
       "      <td>...</td>\n",
       "      <td>...</td>\n",
       "      <td>...</td>\n",
       "      <td>...</td>\n",
       "      <td>...</td>\n",
       "      <td>...</td>\n",
       "      <td>...</td>\n",
       "      <td>...</td>\n",
       "      <td>...</td>\n",
       "      <td>...</td>\n",
       "      <td>...</td>\n",
       "      <td>...</td>\n",
       "      <td>...</td>\n",
       "      <td>...</td>\n",
       "      <td>...</td>\n",
       "      <td>...</td>\n",
       "      <td>...</td>\n",
       "      <td>...</td>\n",
       "    </tr>\n",
       "    <tr>\n",
       "      <th>58108</th>\n",
       "      <td>1.0</td>\n",
       "      <td>1.0</td>\n",
       "      <td>1.0</td>\n",
       "      <td>32.0</td>\n",
       "      <td>1.0</td>\n",
       "      <td>1.0</td>\n",
       "      <td>0.0</td>\n",
       "      <td>1.0</td>\n",
       "      <td>1.0</td>\n",
       "      <td>0.0</td>\n",
       "      <td>...</td>\n",
       "      <td>1.0</td>\n",
       "      <td>0.0</td>\n",
       "      <td>3.0</td>\n",
       "      <td>0.0</td>\n",
       "      <td>5.0</td>\n",
       "      <td>1.0</td>\n",
       "      <td>1.0</td>\n",
       "      <td>12.0</td>\n",
       "      <td>3.0</td>\n",
       "      <td>5.0</td>\n",
       "    </tr>\n",
       "    <tr>\n",
       "      <th>5646</th>\n",
       "      <td>0.0</td>\n",
       "      <td>0.0</td>\n",
       "      <td>1.0</td>\n",
       "      <td>29.0</td>\n",
       "      <td>1.0</td>\n",
       "      <td>0.0</td>\n",
       "      <td>0.0</td>\n",
       "      <td>1.0</td>\n",
       "      <td>1.0</td>\n",
       "      <td>0.0</td>\n",
       "      <td>...</td>\n",
       "      <td>1.0</td>\n",
       "      <td>0.0</td>\n",
       "      <td>3.0</td>\n",
       "      <td>0.0</td>\n",
       "      <td>0.0</td>\n",
       "      <td>0.0</td>\n",
       "      <td>1.0</td>\n",
       "      <td>10.0</td>\n",
       "      <td>6.0</td>\n",
       "      <td>8.0</td>\n",
       "    </tr>\n",
       "    <tr>\n",
       "      <th>20971</th>\n",
       "      <td>0.0</td>\n",
       "      <td>0.0</td>\n",
       "      <td>1.0</td>\n",
       "      <td>32.0</td>\n",
       "      <td>1.0</td>\n",
       "      <td>0.0</td>\n",
       "      <td>0.0</td>\n",
       "      <td>1.0</td>\n",
       "      <td>1.0</td>\n",
       "      <td>1.0</td>\n",
       "      <td>...</td>\n",
       "      <td>1.0</td>\n",
       "      <td>0.0</td>\n",
       "      <td>2.0</td>\n",
       "      <td>5.0</td>\n",
       "      <td>0.0</td>\n",
       "      <td>0.0</td>\n",
       "      <td>0.0</td>\n",
       "      <td>5.0</td>\n",
       "      <td>6.0</td>\n",
       "      <td>5.0</td>\n",
       "    </tr>\n",
       "    <tr>\n",
       "      <th>24932</th>\n",
       "      <td>1.0</td>\n",
       "      <td>1.0</td>\n",
       "      <td>1.0</td>\n",
       "      <td>29.0</td>\n",
       "      <td>0.0</td>\n",
       "      <td>0.0</td>\n",
       "      <td>0.0</td>\n",
       "      <td>1.0</td>\n",
       "      <td>1.0</td>\n",
       "      <td>1.0</td>\n",
       "      <td>...</td>\n",
       "      <td>1.0</td>\n",
       "      <td>0.0</td>\n",
       "      <td>2.0</td>\n",
       "      <td>0.0</td>\n",
       "      <td>5.0</td>\n",
       "      <td>0.0</td>\n",
       "      <td>0.0</td>\n",
       "      <td>13.0</td>\n",
       "      <td>5.0</td>\n",
       "      <td>6.0</td>\n",
       "    </tr>\n",
       "    <tr>\n",
       "      <th>31680</th>\n",
       "      <td>0.0</td>\n",
       "      <td>0.0</td>\n",
       "      <td>1.0</td>\n",
       "      <td>28.0</td>\n",
       "      <td>0.0</td>\n",
       "      <td>0.0</td>\n",
       "      <td>0.0</td>\n",
       "      <td>1.0</td>\n",
       "      <td>0.0</td>\n",
       "      <td>1.0</td>\n",
       "      <td>...</td>\n",
       "      <td>1.0</td>\n",
       "      <td>0.0</td>\n",
       "      <td>2.0</td>\n",
       "      <td>0.0</td>\n",
       "      <td>0.0</td>\n",
       "      <td>0.0</td>\n",
       "      <td>0.0</td>\n",
       "      <td>10.0</td>\n",
       "      <td>6.0</td>\n",
       "      <td>8.0</td>\n",
       "    </tr>\n",
       "  </tbody>\n",
       "</table>\n",
       "<p>56553 rows × 21 columns</p>\n",
       "</div>"
      ],
      "text/plain": [
       "       HighBP  HighChol  CholCheck   BMI  Smoker  Stroke  \\\n",
       "39727     1.0       1.0        1.0  30.0     1.0     0.0   \n",
       "21136     0.0       0.0        1.0  35.0     0.0     0.0   \n",
       "3591      0.0       1.0        1.0  30.0     1.0     0.0   \n",
       "12127     1.0       0.0        1.0  30.0     1.0     0.0   \n",
       "34337     0.0       0.0        1.0  38.0     0.0     0.0   \n",
       "...       ...       ...        ...   ...     ...     ...   \n",
       "58108     1.0       1.0        1.0  32.0     1.0     1.0   \n",
       "5646      0.0       0.0        1.0  29.0     1.0     0.0   \n",
       "20971     0.0       0.0        1.0  32.0     1.0     0.0   \n",
       "24932     1.0       1.0        1.0  29.0     0.0     0.0   \n",
       "31680     0.0       0.0        1.0  28.0     0.0     0.0   \n",
       "\n",
       "       HeartDiseaseorAttack  PhysActivity  Fruits  Veggies  ...  \\\n",
       "39727                   0.0           1.0     1.0      0.0  ...   \n",
       "21136                   0.0           1.0     1.0      1.0  ...   \n",
       "3591                    0.0           1.0     1.0      0.0  ...   \n",
       "12127                   0.0           1.0     1.0      1.0  ...   \n",
       "34337                   0.0           1.0     1.0      1.0  ...   \n",
       "...                     ...           ...     ...      ...  ...   \n",
       "58108                   0.0           1.0     1.0      0.0  ...   \n",
       "5646                    0.0           1.0     1.0      0.0  ...   \n",
       "20971                   0.0           1.0     1.0      1.0  ...   \n",
       "24932                   0.0           1.0     1.0      1.0  ...   \n",
       "31680                   0.0           1.0     0.0      1.0  ...   \n",
       "\n",
       "       AnyHealthcare  NoDocbcCost  GenHlth  MentHlth  PhysHlth  DiffWalk  Sex  \\\n",
       "39727            1.0          0.0      3.0       0.0       0.0       0.0  1.0   \n",
       "21136            1.0          1.0      3.0      30.0      15.0       0.0  0.0   \n",
       "3591             1.0          0.0      3.0       0.0       0.0       0.0  1.0   \n",
       "12127            1.0          0.0      2.0       0.0       0.0       0.0  0.0   \n",
       "34337            1.0          0.0      3.0       0.0       3.0       1.0  1.0   \n",
       "...              ...          ...      ...       ...       ...       ...  ...   \n",
       "58108            1.0          0.0      3.0       0.0       5.0       1.0  1.0   \n",
       "5646             1.0          0.0      3.0       0.0       0.0       0.0  1.0   \n",
       "20971            1.0          0.0      2.0       5.0       0.0       0.0  0.0   \n",
       "24932            1.0          0.0      2.0       0.0       5.0       0.0  0.0   \n",
       "31680            1.0          0.0      2.0       0.0       0.0       0.0  0.0   \n",
       "\n",
       "        Age  Education  Income  \n",
       "39727  12.0        4.0     5.0  \n",
       "21136   5.0        5.0     5.0  \n",
       "3591   11.0        6.0     6.0  \n",
       "12127   5.0        6.0     8.0  \n",
       "34337  10.0        6.0     8.0  \n",
       "...     ...        ...     ...  \n",
       "58108  12.0        3.0     5.0  \n",
       "5646   10.0        6.0     8.0  \n",
       "20971   5.0        6.0     5.0  \n",
       "24932  13.0        5.0     6.0  \n",
       "31680  10.0        6.0     8.0  \n",
       "\n",
       "[56553 rows x 21 columns]"
      ]
     },
     "execution_count": 12,
     "metadata": {},
     "output_type": "execute_result"
    }
   ],
   "source": [
    "x_train"
   ]
  },
  {
   "cell_type": "markdown",
   "metadata": {
    "id": "5HevmTsJjbT8"
   },
   "source": [
    "## EDA"
   ]
  },
  {
   "cell_type": "code",
   "execution_count": 13,
   "metadata": {
    "colab": {
     "base_uri": "https://localhost:8080/",
     "height": 256
    },
    "id": "aXVPIQggjaGF",
    "outputId": "b5bbfce9-9da8-4bba-c70f-9b10652040da"
   },
   "outputs": [
    {
     "data": {
      "text/html": [
       "<div>\n",
       "<style scoped>\n",
       "    .dataframe tbody tr th:only-of-type {\n",
       "        vertical-align: middle;\n",
       "    }\n",
       "\n",
       "    .dataframe tbody tr th {\n",
       "        vertical-align: top;\n",
       "    }\n",
       "\n",
       "    .dataframe thead th {\n",
       "        text-align: right;\n",
       "    }\n",
       "</style>\n",
       "<table border=\"1\" class=\"dataframe\">\n",
       "  <thead>\n",
       "    <tr style=\"text-align: right;\">\n",
       "      <th></th>\n",
       "      <th>Diabetes_binary</th>\n",
       "      <th>HighBP</th>\n",
       "      <th>HighChol</th>\n",
       "      <th>CholCheck</th>\n",
       "      <th>BMI</th>\n",
       "      <th>Smoker</th>\n",
       "      <th>Stroke</th>\n",
       "      <th>HeartDiseaseorAttack</th>\n",
       "      <th>PhysActivity</th>\n",
       "      <th>Fruits</th>\n",
       "      <th>...</th>\n",
       "      <th>AnyHealthcare</th>\n",
       "      <th>NoDocbcCost</th>\n",
       "      <th>GenHlth</th>\n",
       "      <th>MentHlth</th>\n",
       "      <th>PhysHlth</th>\n",
       "      <th>DiffWalk</th>\n",
       "      <th>Sex</th>\n",
       "      <th>Age</th>\n",
       "      <th>Education</th>\n",
       "      <th>Income</th>\n",
       "    </tr>\n",
       "  </thead>\n",
       "  <tbody>\n",
       "    <tr>\n",
       "      <th>39727</th>\n",
       "      <td>1.0</td>\n",
       "      <td>1.0</td>\n",
       "      <td>1.0</td>\n",
       "      <td>1.0</td>\n",
       "      <td>30.0</td>\n",
       "      <td>1.0</td>\n",
       "      <td>0.0</td>\n",
       "      <td>0.0</td>\n",
       "      <td>1.0</td>\n",
       "      <td>1.0</td>\n",
       "      <td>...</td>\n",
       "      <td>1.0</td>\n",
       "      <td>0.0</td>\n",
       "      <td>3.0</td>\n",
       "      <td>0.0</td>\n",
       "      <td>0.0</td>\n",
       "      <td>0.0</td>\n",
       "      <td>1.0</td>\n",
       "      <td>12.0</td>\n",
       "      <td>4.0</td>\n",
       "      <td>5.0</td>\n",
       "    </tr>\n",
       "    <tr>\n",
       "      <th>21136</th>\n",
       "      <td>0.0</td>\n",
       "      <td>0.0</td>\n",
       "      <td>0.0</td>\n",
       "      <td>1.0</td>\n",
       "      <td>35.0</td>\n",
       "      <td>0.0</td>\n",
       "      <td>0.0</td>\n",
       "      <td>0.0</td>\n",
       "      <td>1.0</td>\n",
       "      <td>1.0</td>\n",
       "      <td>...</td>\n",
       "      <td>1.0</td>\n",
       "      <td>1.0</td>\n",
       "      <td>3.0</td>\n",
       "      <td>30.0</td>\n",
       "      <td>15.0</td>\n",
       "      <td>0.0</td>\n",
       "      <td>0.0</td>\n",
       "      <td>5.0</td>\n",
       "      <td>5.0</td>\n",
       "      <td>5.0</td>\n",
       "    </tr>\n",
       "    <tr>\n",
       "      <th>3591</th>\n",
       "      <td>0.0</td>\n",
       "      <td>0.0</td>\n",
       "      <td>1.0</td>\n",
       "      <td>1.0</td>\n",
       "      <td>30.0</td>\n",
       "      <td>1.0</td>\n",
       "      <td>0.0</td>\n",
       "      <td>0.0</td>\n",
       "      <td>1.0</td>\n",
       "      <td>1.0</td>\n",
       "      <td>...</td>\n",
       "      <td>1.0</td>\n",
       "      <td>0.0</td>\n",
       "      <td>3.0</td>\n",
       "      <td>0.0</td>\n",
       "      <td>0.0</td>\n",
       "      <td>0.0</td>\n",
       "      <td>1.0</td>\n",
       "      <td>11.0</td>\n",
       "      <td>6.0</td>\n",
       "      <td>6.0</td>\n",
       "    </tr>\n",
       "    <tr>\n",
       "      <th>12127</th>\n",
       "      <td>0.0</td>\n",
       "      <td>1.0</td>\n",
       "      <td>0.0</td>\n",
       "      <td>1.0</td>\n",
       "      <td>30.0</td>\n",
       "      <td>1.0</td>\n",
       "      <td>0.0</td>\n",
       "      <td>0.0</td>\n",
       "      <td>1.0</td>\n",
       "      <td>1.0</td>\n",
       "      <td>...</td>\n",
       "      <td>1.0</td>\n",
       "      <td>0.0</td>\n",
       "      <td>2.0</td>\n",
       "      <td>0.0</td>\n",
       "      <td>0.0</td>\n",
       "      <td>0.0</td>\n",
       "      <td>0.0</td>\n",
       "      <td>5.0</td>\n",
       "      <td>6.0</td>\n",
       "      <td>8.0</td>\n",
       "    </tr>\n",
       "    <tr>\n",
       "      <th>34337</th>\n",
       "      <td>0.0</td>\n",
       "      <td>0.0</td>\n",
       "      <td>0.0</td>\n",
       "      <td>1.0</td>\n",
       "      <td>38.0</td>\n",
       "      <td>0.0</td>\n",
       "      <td>0.0</td>\n",
       "      <td>0.0</td>\n",
       "      <td>1.0</td>\n",
       "      <td>1.0</td>\n",
       "      <td>...</td>\n",
       "      <td>1.0</td>\n",
       "      <td>0.0</td>\n",
       "      <td>3.0</td>\n",
       "      <td>0.0</td>\n",
       "      <td>3.0</td>\n",
       "      <td>1.0</td>\n",
       "      <td>1.0</td>\n",
       "      <td>10.0</td>\n",
       "      <td>6.0</td>\n",
       "      <td>8.0</td>\n",
       "    </tr>\n",
       "  </tbody>\n",
       "</table>\n",
       "<p>5 rows × 22 columns</p>\n",
       "</div>"
      ],
      "text/plain": [
       "       Diabetes_binary  HighBP  HighChol  CholCheck   BMI  Smoker  Stroke  \\\n",
       "39727              1.0     1.0       1.0        1.0  30.0     1.0     0.0   \n",
       "21136              0.0     0.0       0.0        1.0  35.0     0.0     0.0   \n",
       "3591               0.0     0.0       1.0        1.0  30.0     1.0     0.0   \n",
       "12127              0.0     1.0       0.0        1.0  30.0     1.0     0.0   \n",
       "34337              0.0     0.0       0.0        1.0  38.0     0.0     0.0   \n",
       "\n",
       "       HeartDiseaseorAttack  PhysActivity  Fruits  ...  AnyHealthcare  \\\n",
       "39727                   0.0           1.0     1.0  ...            1.0   \n",
       "21136                   0.0           1.0     1.0  ...            1.0   \n",
       "3591                    0.0           1.0     1.0  ...            1.0   \n",
       "12127                   0.0           1.0     1.0  ...            1.0   \n",
       "34337                   0.0           1.0     1.0  ...            1.0   \n",
       "\n",
       "       NoDocbcCost  GenHlth  MentHlth  PhysHlth  DiffWalk  Sex   Age  \\\n",
       "39727          0.0      3.0       0.0       0.0       0.0  1.0  12.0   \n",
       "21136          1.0      3.0      30.0      15.0       0.0  0.0   5.0   \n",
       "3591           0.0      3.0       0.0       0.0       0.0  1.0  11.0   \n",
       "12127          0.0      2.0       0.0       0.0       0.0  0.0   5.0   \n",
       "34337          0.0      3.0       0.0       3.0       1.0  1.0  10.0   \n",
       "\n",
       "       Education  Income  \n",
       "39727        4.0     5.0  \n",
       "21136        5.0     5.0  \n",
       "3591         6.0     6.0  \n",
       "12127        6.0     8.0  \n",
       "34337        6.0     8.0  \n",
       "\n",
       "[5 rows x 22 columns]"
      ]
     },
     "execution_count": 13,
     "metadata": {},
     "output_type": "execute_result"
    }
   ],
   "source": [
    "# Merge back into one dataframe for EDA\n",
    "df = pd.DataFrame(x_train)\n",
    "df.insert(0, \"Diabetes_binary\", y_train)\n",
    "df.head()\n"
   ]
  },
  {
   "cell_type": "code",
   "execution_count": 14,
   "metadata": {
    "colab": {
     "base_uri": "https://localhost:8080/"
    },
    "id": "R_bVijTDl2hY",
    "outputId": "db581fc3-6c1a-43ff-e722-b576663511b9"
   },
   "outputs": [
    {
     "data": {
      "text/plain": [
       "(56553, 22)"
      ]
     },
     "execution_count": 14,
     "metadata": {},
     "output_type": "execute_result"
    }
   ],
   "source": [
    "df.shape"
   ]
  },
  {
   "cell_type": "code",
   "execution_count": 15,
   "metadata": {
    "colab": {
     "base_uri": "https://localhost:8080/"
    },
    "id": "dPEKzs88TRfB",
    "outputId": "f92b3d7b-1d52-4463-f443-14f812042335"
   },
   "outputs": [
    {
     "data": {
      "text/plain": [
       "Diabetes_binary         float64\n",
       "HighBP                  float64\n",
       "HighChol                float64\n",
       "CholCheck               float64\n",
       "BMI                     float64\n",
       "Smoker                  float64\n",
       "Stroke                  float64\n",
       "HeartDiseaseorAttack    float64\n",
       "PhysActivity            float64\n",
       "Fruits                  float64\n",
       "Veggies                 float64\n",
       "HvyAlcoholConsump       float64\n",
       "AnyHealthcare           float64\n",
       "NoDocbcCost             float64\n",
       "GenHlth                 float64\n",
       "MentHlth                float64\n",
       "PhysHlth                float64\n",
       "DiffWalk                float64\n",
       "Sex                     float64\n",
       "Age                     float64\n",
       "Education               float64\n",
       "Income                  float64\n",
       "dtype: object"
      ]
     },
     "execution_count": 15,
     "metadata": {},
     "output_type": "execute_result"
    }
   ],
   "source": [
    "df.dtypes"
   ]
  },
  {
   "cell_type": "markdown",
   "metadata": {
    "id": "hm1J9ECyWLEb"
   },
   "source": [
    "All columns of the data are numerical, which is good for us when we're building models."
   ]
  },
  {
   "cell_type": "code",
   "execution_count": 16,
   "metadata": {
    "colab": {
     "base_uri": "https://localhost:8080/",
     "height": 467
    },
    "id": "mMFfV7SqT8Of",
    "outputId": "9e84ff7d-bde2-4ea4-8b8e-857317c6a2a0"
   },
   "outputs": [
    {
     "data": {
      "text/plain": [
       "<Axes: xlabel='Diabetes_binary', ylabel='percent'>"
      ]
     },
     "execution_count": 16,
     "metadata": {},
     "output_type": "execute_result"
    },
    {
     "data": {
      "image/png": "[encoded data removed]",
      "text/plain": [
       "<Figure size 640x480 with 1 Axes>"
      ]
     },
     "metadata": {},
     "output_type": "display_data"
    }
   ],
   "source": [
    "ax = sns.countplot(df, x='Diabetes_binary', stat='percent')\n",
    "ax"
   ]
  },
  {
   "cell_type": "markdown",
   "metadata": {
    "id": "wjVB4fdFWUy3"
   },
   "source": [
    "The data is perfectly balanced with 50% of each class. A baseline model would only guess correctly 50% of the time.\n",
    "\n",
    "For that reason, any performance gain pass 50% could be considered significant.\n",
    "\n",
    "An informed idea from experienced doctors could be very lengthy process. With the help of Machine Learning modelling, we could train a model to predict (roughly) the chances of being diabete relatively painless and rather quickly."
   ]
  },
  {
   "cell_type": "code",
   "execution_count": 17,
   "metadata": {
    "colab": {
     "base_uri": "https://localhost:8080/",
     "height": 789
    },
    "id": "Bl4uJ5o3UCok",
    "outputId": "39807ac5-d48e-4115-aea0-4fd86fed2a5f"
   },
   "outputs": [
    {
     "data": {
      "text/html": [
       "<div>\n",
       "<style scoped>\n",
       "    .dataframe tbody tr th:only-of-type {\n",
       "        vertical-align: middle;\n",
       "    }\n",
       "\n",
       "    .dataframe tbody tr th {\n",
       "        vertical-align: top;\n",
       "    }\n",
       "\n",
       "    .dataframe thead th {\n",
       "        text-align: right;\n",
       "    }\n",
       "</style>\n",
       "<table border=\"1\" class=\"dataframe\">\n",
       "  <thead>\n",
       "    <tr style=\"text-align: right;\">\n",
       "      <th></th>\n",
       "      <th>Diabetes_binary</th>\n",
       "      <th>HighBP</th>\n",
       "      <th>HighChol</th>\n",
       "      <th>CholCheck</th>\n",
       "      <th>BMI</th>\n",
       "      <th>Smoker</th>\n",
       "      <th>Stroke</th>\n",
       "      <th>HeartDiseaseorAttack</th>\n",
       "      <th>PhysActivity</th>\n",
       "      <th>Fruits</th>\n",
       "      <th>...</th>\n",
       "      <th>AnyHealthcare</th>\n",
       "      <th>NoDocbcCost</th>\n",
       "      <th>GenHlth</th>\n",
       "      <th>MentHlth</th>\n",
       "      <th>PhysHlth</th>\n",
       "      <th>DiffWalk</th>\n",
       "      <th>Sex</th>\n",
       "      <th>Age</th>\n",
       "      <th>Education</th>\n",
       "      <th>Income</th>\n",
       "    </tr>\n",
       "  </thead>\n",
       "  <tbody>\n",
       "    <tr>\n",
       "      <th>Diabetes_binary</th>\n",
       "      <td>1.000000</td>\n",
       "      <td>0.376964</td>\n",
       "      <td>0.289631</td>\n",
       "      <td>0.114207</td>\n",
       "      <td>0.291798</td>\n",
       "      <td>0.084353</td>\n",
       "      <td>0.125771</td>\n",
       "      <td>0.209570</td>\n",
       "      <td>-0.157727</td>\n",
       "      <td>-0.054429</td>\n",
       "      <td>...</td>\n",
       "      <td>0.019334</td>\n",
       "      <td>0.043752</td>\n",
       "      <td>0.407267</td>\n",
       "      <td>0.088467</td>\n",
       "      <td>0.212429</td>\n",
       "      <td>0.270664</td>\n",
       "      <td>0.043990</td>\n",
       "      <td>0.277130</td>\n",
       "      <td>-0.168152</td>\n",
       "      <td>-0.225387</td>\n",
       "    </tr>\n",
       "    <tr>\n",
       "      <th>HighBP</th>\n",
       "      <td>0.376964</td>\n",
       "      <td>1.000000</td>\n",
       "      <td>0.314519</td>\n",
       "      <td>0.102380</td>\n",
       "      <td>0.241346</td>\n",
       "      <td>0.087404</td>\n",
       "      <td>0.130245</td>\n",
       "      <td>0.212322</td>\n",
       "      <td>-0.138408</td>\n",
       "      <td>-0.039185</td>\n",
       "      <td>...</td>\n",
       "      <td>0.035262</td>\n",
       "      <td>0.027415</td>\n",
       "      <td>0.318967</td>\n",
       "      <td>0.065371</td>\n",
       "      <td>0.171091</td>\n",
       "      <td>0.233226</td>\n",
       "      <td>0.040451</td>\n",
       "      <td>0.337489</td>\n",
       "      <td>-0.141583</td>\n",
       "      <td>-0.188915</td>\n",
       "    </tr>\n",
       "    <tr>\n",
       "      <th>HighChol</th>\n",
       "      <td>0.289631</td>\n",
       "      <td>0.314519</td>\n",
       "      <td>1.000000</td>\n",
       "      <td>0.086992</td>\n",
       "      <td>0.132418</td>\n",
       "      <td>0.096699</td>\n",
       "      <td>0.099042</td>\n",
       "      <td>0.181425</td>\n",
       "      <td>-0.091646</td>\n",
       "      <td>-0.045984</td>\n",
       "      <td>...</td>\n",
       "      <td>0.031301</td>\n",
       "      <td>0.033788</td>\n",
       "      <td>0.237393</td>\n",
       "      <td>0.084570</td>\n",
       "      <td>0.142138</td>\n",
       "      <td>0.165802</td>\n",
       "      <td>0.015837</td>\n",
       "      <td>0.239719</td>\n",
       "      <td>-0.087379</td>\n",
       "      <td>-0.108621</td>\n",
       "    </tr>\n",
       "    <tr>\n",
       "      <th>CholCheck</th>\n",
       "      <td>0.114207</td>\n",
       "      <td>0.102380</td>\n",
       "      <td>0.086992</td>\n",
       "      <td>1.000000</td>\n",
       "      <td>0.044614</td>\n",
       "      <td>0.002200</td>\n",
       "      <td>0.024113</td>\n",
       "      <td>0.044580</td>\n",
       "      <td>-0.007505</td>\n",
       "      <td>0.009708</td>\n",
       "      <td>...</td>\n",
       "      <td>0.099270</td>\n",
       "      <td>-0.055814</td>\n",
       "      <td>0.059744</td>\n",
       "      <td>-0.011902</td>\n",
       "      <td>0.034655</td>\n",
       "      <td>0.041699</td>\n",
       "      <td>-0.005741</td>\n",
       "      <td>0.102343</td>\n",
       "      <td>-0.012353</td>\n",
       "      <td>0.003658</td>\n",
       "    </tr>\n",
       "    <tr>\n",
       "      <th>BMI</th>\n",
       "      <td>0.291798</td>\n",
       "      <td>0.241346</td>\n",
       "      <td>0.132418</td>\n",
       "      <td>0.044614</td>\n",
       "      <td>1.000000</td>\n",
       "      <td>0.011592</td>\n",
       "      <td>0.023371</td>\n",
       "      <td>0.060728</td>\n",
       "      <td>-0.169640</td>\n",
       "      <td>-0.086696</td>\n",
       "      <td>...</td>\n",
       "      <td>-0.014491</td>\n",
       "      <td>0.068446</td>\n",
       "      <td>0.266666</td>\n",
       "      <td>0.108572</td>\n",
       "      <td>0.163866</td>\n",
       "      <td>0.243651</td>\n",
       "      <td>-0.000125</td>\n",
       "      <td>-0.038444</td>\n",
       "      <td>-0.101172</td>\n",
       "      <td>-0.128307</td>\n",
       "    </tr>\n",
       "    <tr>\n",
       "      <th>Smoker</th>\n",
       "      <td>0.084353</td>\n",
       "      <td>0.087404</td>\n",
       "      <td>0.096699</td>\n",
       "      <td>0.002200</td>\n",
       "      <td>0.011592</td>\n",
       "      <td>1.000000</td>\n",
       "      <td>0.063909</td>\n",
       "      <td>0.124813</td>\n",
       "      <td>-0.078615</td>\n",
       "      <td>-0.074320</td>\n",
       "      <td>...</td>\n",
       "      <td>-0.010419</td>\n",
       "      <td>0.035268</td>\n",
       "      <td>0.153618</td>\n",
       "      <td>0.090703</td>\n",
       "      <td>0.118120</td>\n",
       "      <td>0.119204</td>\n",
       "      <td>0.113418</td>\n",
       "      <td>0.105822</td>\n",
       "      <td>-0.138439</td>\n",
       "      <td>-0.103361</td>\n",
       "    </tr>\n",
       "    <tr>\n",
       "      <th>Stroke</th>\n",
       "      <td>0.125771</td>\n",
       "      <td>0.130245</td>\n",
       "      <td>0.099042</td>\n",
       "      <td>0.024113</td>\n",
       "      <td>0.023371</td>\n",
       "      <td>0.063909</td>\n",
       "      <td>1.000000</td>\n",
       "      <td>0.226891</td>\n",
       "      <td>-0.079733</td>\n",
       "      <td>-0.009368</td>\n",
       "      <td>...</td>\n",
       "      <td>0.007296</td>\n",
       "      <td>0.033205</td>\n",
       "      <td>0.186144</td>\n",
       "      <td>0.085285</td>\n",
       "      <td>0.158451</td>\n",
       "      <td>0.189189</td>\n",
       "      <td>0.004968</td>\n",
       "      <td>0.120977</td>\n",
       "      <td>-0.074635</td>\n",
       "      <td>-0.134853</td>\n",
       "    </tr>\n",
       "    <tr>\n",
       "      <th>HeartDiseaseorAttack</th>\n",
       "      <td>0.209570</td>\n",
       "      <td>0.212322</td>\n",
       "      <td>0.181425</td>\n",
       "      <td>0.044580</td>\n",
       "      <td>0.060728</td>\n",
       "      <td>0.124813</td>\n",
       "      <td>0.226891</td>\n",
       "      <td>1.000000</td>\n",
       "      <td>-0.099056</td>\n",
       "      <td>-0.020113</td>\n",
       "      <td>...</td>\n",
       "      <td>0.016003</td>\n",
       "      <td>0.035162</td>\n",
       "      <td>0.276475</td>\n",
       "      <td>0.074334</td>\n",
       "      <td>0.195628</td>\n",
       "      <td>0.232799</td>\n",
       "      <td>0.098277</td>\n",
       "      <td>0.222926</td>\n",
       "      <td>-0.097046</td>\n",
       "      <td>-0.147634</td>\n",
       "    </tr>\n",
       "    <tr>\n",
       "      <th>PhysActivity</th>\n",
       "      <td>-0.157727</td>\n",
       "      <td>-0.138408</td>\n",
       "      <td>-0.091646</td>\n",
       "      <td>-0.007505</td>\n",
       "      <td>-0.169640</td>\n",
       "      <td>-0.078615</td>\n",
       "      <td>-0.079733</td>\n",
       "      <td>-0.099056</td>\n",
       "      <td>1.000000</td>\n",
       "      <td>0.132159</td>\n",
       "      <td>...</td>\n",
       "      <td>0.026004</td>\n",
       "      <td>-0.062192</td>\n",
       "      <td>-0.274502</td>\n",
       "      <td>-0.131285</td>\n",
       "      <td>-0.236753</td>\n",
       "      <td>-0.278581</td>\n",
       "      <td>0.050210</td>\n",
       "      <td>-0.100950</td>\n",
       "      <td>0.190979</td>\n",
       "      <td>0.195479</td>\n",
       "    </tr>\n",
       "    <tr>\n",
       "      <th>Fruits</th>\n",
       "      <td>-0.054429</td>\n",
       "      <td>-0.039185</td>\n",
       "      <td>-0.045984</td>\n",
       "      <td>0.009708</td>\n",
       "      <td>-0.086696</td>\n",
       "      <td>-0.074320</td>\n",
       "      <td>-0.009368</td>\n",
       "      <td>-0.020113</td>\n",
       "      <td>0.132159</td>\n",
       "      <td>1.000000</td>\n",
       "      <td>...</td>\n",
       "      <td>0.028151</td>\n",
       "      <td>-0.046547</td>\n",
       "      <td>-0.098750</td>\n",
       "      <td>-0.062568</td>\n",
       "      <td>-0.047759</td>\n",
       "      <td>-0.050546</td>\n",
       "      <td>-0.084587</td>\n",
       "      <td>0.059683</td>\n",
       "      <td>0.099264</td>\n",
       "      <td>0.082559</td>\n",
       "    </tr>\n",
       "    <tr>\n",
       "      <th>Veggies</th>\n",
       "      <td>-0.079718</td>\n",
       "      <td>-0.069893</td>\n",
       "      <td>-0.044289</td>\n",
       "      <td>-0.002021</td>\n",
       "      <td>-0.056954</td>\n",
       "      <td>-0.029157</td>\n",
       "      <td>-0.046085</td>\n",
       "      <td>-0.037905</td>\n",
       "      <td>0.145796</td>\n",
       "      <td>0.237528</td>\n",
       "      <td>...</td>\n",
       "      <td>0.031004</td>\n",
       "      <td>-0.037615</td>\n",
       "      <td>-0.114317</td>\n",
       "      <td>-0.050877</td>\n",
       "      <td>-0.066001</td>\n",
       "      <td>-0.084948</td>\n",
       "      <td>-0.050868</td>\n",
       "      <td>-0.020113</td>\n",
       "      <td>0.153116</td>\n",
       "      <td>0.157915</td>\n",
       "    </tr>\n",
       "    <tr>\n",
       "      <th>HvyAlcoholConsump</th>\n",
       "      <td>-0.091315</td>\n",
       "      <td>-0.028207</td>\n",
       "      <td>-0.026529</td>\n",
       "      <td>-0.025713</td>\n",
       "      <td>-0.056430</td>\n",
       "      <td>0.079874</td>\n",
       "      <td>-0.024116</td>\n",
       "      <td>-0.035517</td>\n",
       "      <td>0.017351</td>\n",
       "      <td>-0.030989</td>\n",
       "      <td>...</td>\n",
       "      <td>-0.014589</td>\n",
       "      <td>0.011211</td>\n",
       "      <td>-0.059066</td>\n",
       "      <td>0.009480</td>\n",
       "      <td>-0.035135</td>\n",
       "      <td>-0.046881</td>\n",
       "      <td>0.013576</td>\n",
       "      <td>-0.056359</td>\n",
       "      <td>0.035810</td>\n",
       "      <td>0.061733</td>\n",
       "    </tr>\n",
       "    <tr>\n",
       "      <th>AnyHealthcare</th>\n",
       "      <td>0.019334</td>\n",
       "      <td>0.035262</td>\n",
       "      <td>0.031301</td>\n",
       "      <td>0.099270</td>\n",
       "      <td>-0.014491</td>\n",
       "      <td>-0.010419</td>\n",
       "      <td>0.007296</td>\n",
       "      <td>0.016003</td>\n",
       "      <td>0.026004</td>\n",
       "      <td>0.028151</td>\n",
       "      <td>...</td>\n",
       "      <td>1.000000</td>\n",
       "      <td>-0.222024</td>\n",
       "      <td>-0.035508</td>\n",
       "      <td>-0.053553</td>\n",
       "      <td>-0.003168</td>\n",
       "      <td>0.008360</td>\n",
       "      <td>-0.007323</td>\n",
       "      <td>0.136627</td>\n",
       "      <td>0.109581</td>\n",
       "      <td>0.132246</td>\n",
       "    </tr>\n",
       "    <tr>\n",
       "      <th>NoDocbcCost</th>\n",
       "      <td>0.043752</td>\n",
       "      <td>0.027415</td>\n",
       "      <td>0.033788</td>\n",
       "      <td>-0.055814</td>\n",
       "      <td>0.068446</td>\n",
       "      <td>0.035268</td>\n",
       "      <td>0.033205</td>\n",
       "      <td>0.035162</td>\n",
       "      <td>-0.062192</td>\n",
       "      <td>-0.046547</td>\n",
       "      <td>...</td>\n",
       "      <td>-0.222024</td>\n",
       "      <td>1.000000</td>\n",
       "      <td>0.169080</td>\n",
       "      <td>0.193207</td>\n",
       "      <td>0.156665</td>\n",
       "      <td>0.126157</td>\n",
       "      <td>-0.047651</td>\n",
       "      <td>-0.130867</td>\n",
       "      <td>-0.099950</td>\n",
       "      <td>-0.196866</td>\n",
       "    </tr>\n",
       "    <tr>\n",
       "      <th>GenHlth</th>\n",
       "      <td>0.407267</td>\n",
       "      <td>0.318967</td>\n",
       "      <td>0.237393</td>\n",
       "      <td>0.059744</td>\n",
       "      <td>0.266666</td>\n",
       "      <td>0.153618</td>\n",
       "      <td>0.186144</td>\n",
       "      <td>0.276475</td>\n",
       "      <td>-0.274502</td>\n",
       "      <td>-0.098750</td>\n",
       "      <td>...</td>\n",
       "      <td>-0.035508</td>\n",
       "      <td>0.169080</td>\n",
       "      <td>1.000000</td>\n",
       "      <td>0.314604</td>\n",
       "      <td>0.553096</td>\n",
       "      <td>0.476192</td>\n",
       "      <td>-0.013258</td>\n",
       "      <td>0.155315</td>\n",
       "      <td>-0.286089</td>\n",
       "      <td>-0.383320</td>\n",
       "    </tr>\n",
       "    <tr>\n",
       "      <th>MentHlth</th>\n",
       "      <td>0.088467</td>\n",
       "      <td>0.065371</td>\n",
       "      <td>0.084570</td>\n",
       "      <td>-0.011902</td>\n",
       "      <td>0.108572</td>\n",
       "      <td>0.090703</td>\n",
       "      <td>0.085285</td>\n",
       "      <td>0.074334</td>\n",
       "      <td>-0.131285</td>\n",
       "      <td>-0.062568</td>\n",
       "      <td>...</td>\n",
       "      <td>-0.053553</td>\n",
       "      <td>0.193207</td>\n",
       "      <td>0.314604</td>\n",
       "      <td>1.000000</td>\n",
       "      <td>0.379367</td>\n",
       "      <td>0.251182</td>\n",
       "      <td>-0.089742</td>\n",
       "      <td>-0.102333</td>\n",
       "      <td>-0.107232</td>\n",
       "      <td>-0.217811</td>\n",
       "    </tr>\n",
       "    <tr>\n",
       "      <th>PhysHlth</th>\n",
       "      <td>0.212429</td>\n",
       "      <td>0.171091</td>\n",
       "      <td>0.142138</td>\n",
       "      <td>0.034655</td>\n",
       "      <td>0.163866</td>\n",
       "      <td>0.118120</td>\n",
       "      <td>0.158451</td>\n",
       "      <td>0.195628</td>\n",
       "      <td>-0.236753</td>\n",
       "      <td>-0.047759</td>\n",
       "      <td>...</td>\n",
       "      <td>-0.003168</td>\n",
       "      <td>0.156665</td>\n",
       "      <td>0.553096</td>\n",
       "      <td>0.379367</td>\n",
       "      <td>1.000000</td>\n",
       "      <td>0.484897</td>\n",
       "      <td>-0.045135</td>\n",
       "      <td>0.084452</td>\n",
       "      <td>-0.157963</td>\n",
       "      <td>-0.277289</td>\n",
       "    </tr>\n",
       "    <tr>\n",
       "      <th>DiffWalk</th>\n",
       "      <td>0.270664</td>\n",
       "      <td>0.233226</td>\n",
       "      <td>0.165802</td>\n",
       "      <td>0.041699</td>\n",
       "      <td>0.243651</td>\n",
       "      <td>0.119204</td>\n",
       "      <td>0.189189</td>\n",
       "      <td>0.232799</td>\n",
       "      <td>-0.278581</td>\n",
       "      <td>-0.050546</td>\n",
       "      <td>...</td>\n",
       "      <td>0.008360</td>\n",
       "      <td>0.126157</td>\n",
       "      <td>0.476192</td>\n",
       "      <td>0.251182</td>\n",
       "      <td>0.484897</td>\n",
       "      <td>1.000000</td>\n",
       "      <td>-0.081795</td>\n",
       "      <td>0.196155</td>\n",
       "      <td>-0.200676</td>\n",
       "      <td>-0.342549</td>\n",
       "    </tr>\n",
       "    <tr>\n",
       "      <th>Sex</th>\n",
       "      <td>0.043990</td>\n",
       "      <td>0.040451</td>\n",
       "      <td>0.015837</td>\n",
       "      <td>-0.005741</td>\n",
       "      <td>-0.000125</td>\n",
       "      <td>0.113418</td>\n",
       "      <td>0.004968</td>\n",
       "      <td>0.098277</td>\n",
       "      <td>0.050210</td>\n",
       "      <td>-0.084587</td>\n",
       "      <td>...</td>\n",
       "      <td>-0.007323</td>\n",
       "      <td>-0.047651</td>\n",
       "      <td>-0.013258</td>\n",
       "      <td>-0.089742</td>\n",
       "      <td>-0.045135</td>\n",
       "      <td>-0.081795</td>\n",
       "      <td>1.000000</td>\n",
       "      <td>0.000966</td>\n",
       "      <td>0.041926</td>\n",
       "      <td>0.157297</td>\n",
       "    </tr>\n",
       "    <tr>\n",
       "      <th>Age</th>\n",
       "      <td>0.277130</td>\n",
       "      <td>0.337489</td>\n",
       "      <td>0.239719</td>\n",
       "      <td>0.102343</td>\n",
       "      <td>-0.038444</td>\n",
       "      <td>0.105822</td>\n",
       "      <td>0.120977</td>\n",
       "      <td>0.222926</td>\n",
       "      <td>-0.100950</td>\n",
       "      <td>0.059683</td>\n",
       "      <td>...</td>\n",
       "      <td>0.136627</td>\n",
       "      <td>-0.130867</td>\n",
       "      <td>0.155315</td>\n",
       "      <td>-0.102333</td>\n",
       "      <td>0.084452</td>\n",
       "      <td>0.196155</td>\n",
       "      <td>0.000966</td>\n",
       "      <td>1.000000</td>\n",
       "      <td>-0.103166</td>\n",
       "      <td>-0.126191</td>\n",
       "    </tr>\n",
       "    <tr>\n",
       "      <th>Education</th>\n",
       "      <td>-0.168152</td>\n",
       "      <td>-0.141583</td>\n",
       "      <td>-0.087379</td>\n",
       "      <td>-0.012353</td>\n",
       "      <td>-0.101172</td>\n",
       "      <td>-0.138439</td>\n",
       "      <td>-0.074635</td>\n",
       "      <td>-0.097046</td>\n",
       "      <td>0.190979</td>\n",
       "      <td>0.099264</td>\n",
       "      <td>...</td>\n",
       "      <td>0.109581</td>\n",
       "      <td>-0.099950</td>\n",
       "      <td>-0.286089</td>\n",
       "      <td>-0.107232</td>\n",
       "      <td>-0.157963</td>\n",
       "      <td>-0.200676</td>\n",
       "      <td>0.041926</td>\n",
       "      <td>-0.103166</td>\n",
       "      <td>1.000000</td>\n",
       "      <td>0.460916</td>\n",
       "    </tr>\n",
       "    <tr>\n",
       "      <th>Income</th>\n",
       "      <td>-0.225387</td>\n",
       "      <td>-0.188915</td>\n",
       "      <td>-0.108621</td>\n",
       "      <td>0.003658</td>\n",
       "      <td>-0.128307</td>\n",
       "      <td>-0.103361</td>\n",
       "      <td>-0.134853</td>\n",
       "      <td>-0.147634</td>\n",
       "      <td>0.195479</td>\n",
       "      <td>0.082559</td>\n",
       "      <td>...</td>\n",
       "      <td>0.132246</td>\n",
       "      <td>-0.196866</td>\n",
       "      <td>-0.383320</td>\n",
       "      <td>-0.217811</td>\n",
       "      <td>-0.277289</td>\n",
       "      <td>-0.342549</td>\n",
       "      <td>0.157297</td>\n",
       "      <td>-0.126191</td>\n",
       "      <td>0.460916</td>\n",
       "      <td>1.000000</td>\n",
       "    </tr>\n",
       "  </tbody>\n",
       "</table>\n",
       "<p>22 rows × 22 columns</p>\n",
       "</div>"
      ],
      "text/plain": [
       "                      Diabetes_binary    HighBP  HighChol  CholCheck  \\\n",
       "Diabetes_binary              1.000000  0.376964  0.289631   0.114207   \n",
       "HighBP                       0.376964  1.000000  0.314519   0.102380   \n",
       "HighChol                     0.289631  0.314519  1.000000   0.086992   \n",
       "CholCheck                    0.114207  0.102380  0.086992   1.000000   \n",
       "BMI                          0.291798  0.241346  0.132418   0.044614   \n",
       "Smoker                       0.084353  0.087404  0.096699   0.002200   \n",
       "Stroke                       0.125771  0.130245  0.099042   0.024113   \n",
       "HeartDiseaseorAttack         0.209570  0.212322  0.181425   0.044580   \n",
       "PhysActivity                -0.157727 -0.138408 -0.091646  -0.007505   \n",
       "Fruits                      -0.054429 -0.039185 -0.045984   0.009708   \n",
       "Veggies                     -0.079718 -0.069893 -0.044289  -0.002021   \n",
       "HvyAlcoholConsump           -0.091315 -0.028207 -0.026529  -0.025713   \n",
       "AnyHealthcare                0.019334  0.035262  0.031301   0.099270   \n",
       "NoDocbcCost                  0.043752  0.027415  0.033788  -0.055814   \n",
       "GenHlth                      0.407267  0.318967  0.237393   0.059744   \n",
       "MentHlth                     0.088467  0.065371  0.084570  -0.011902   \n",
       "PhysHlth                     0.212429  0.171091  0.142138   0.034655   \n",
       "DiffWalk                     0.270664  0.233226  0.165802   0.041699   \n",
       "Sex                          0.043990  0.040451  0.015837  -0.005741   \n",
       "Age                          0.277130  0.337489  0.239719   0.102343   \n",
       "Education                   -0.168152 -0.141583 -0.087379  -0.012353   \n",
       "Income                      -0.225387 -0.188915 -0.108621   0.003658   \n",
       "\n",
       "                           BMI    Smoker    Stroke  HeartDiseaseorAttack  \\\n",
       "Diabetes_binary       0.291798  0.084353  0.125771              0.209570   \n",
       "HighBP                0.241346  0.087404  0.130245              0.212322   \n",
       "HighChol              0.132418  0.096699  0.099042              0.181425   \n",
       "CholCheck             0.044614  0.002200  0.024113              0.044580   \n",
       "BMI                   1.000000  0.011592  0.023371              0.060728   \n",
       "Smoker                0.011592  1.000000  0.063909              0.124813   \n",
       "Stroke                0.023371  0.063909  1.000000              0.226891   \n",
       "HeartDiseaseorAttack  0.060728  0.124813  0.226891              1.000000   \n",
       "PhysActivity         -0.169640 -0.078615 -0.079733             -0.099056   \n",
       "Fruits               -0.086696 -0.074320 -0.009368             -0.020113   \n",
       "Veggies              -0.056954 -0.029157 -0.046085             -0.037905   \n",
       "HvyAlcoholConsump    -0.056430  0.079874 -0.024116             -0.035517   \n",
       "AnyHealthcare        -0.014491 -0.010419  0.007296              0.016003   \n",
       "NoDocbcCost           0.068446  0.035268  0.033205              0.035162   \n",
       "GenHlth               0.266666  0.153618  0.186144              0.276475   \n",
       "MentHlth              0.108572  0.090703  0.085285              0.074334   \n",
       "PhysHlth              0.163866  0.118120  0.158451              0.195628   \n",
       "DiffWalk              0.243651  0.119204  0.189189              0.232799   \n",
       "Sex                  -0.000125  0.113418  0.004968              0.098277   \n",
       "Age                  -0.038444  0.105822  0.120977              0.222926   \n",
       "Education            -0.101172 -0.138439 -0.074635             -0.097046   \n",
       "Income               -0.128307 -0.103361 -0.134853             -0.147634   \n",
       "\n",
       "                      PhysActivity    Fruits  ...  AnyHealthcare  NoDocbcCost  \\\n",
       "Diabetes_binary          -0.157727 -0.054429  ...       0.019334     0.043752   \n",
       "HighBP                   -0.138408 -0.039185  ...       0.035262     0.027415   \n",
       "HighChol                 -0.091646 -0.045984  ...       0.031301     0.033788   \n",
       "CholCheck                -0.007505  0.009708  ...       0.099270    -0.055814   \n",
       "BMI                      -0.169640 -0.086696  ...      -0.014491     0.068446   \n",
       "Smoker                   -0.078615 -0.074320  ...      -0.010419     0.035268   \n",
       "Stroke                   -0.079733 -0.009368  ...       0.007296     0.033205   \n",
       "HeartDiseaseorAttack     -0.099056 -0.020113  ...       0.016003     0.035162   \n",
       "PhysActivity              1.000000  0.132159  ...       0.026004    -0.062192   \n",
       "Fruits                    0.132159  1.000000  ...       0.028151    -0.046547   \n",
       "Veggies                   0.145796  0.237528  ...       0.031004    -0.037615   \n",
       "HvyAlcoholConsump         0.017351 -0.030989  ...      -0.014589     0.011211   \n",
       "AnyHealthcare             0.026004  0.028151  ...       1.000000    -0.222024   \n",
       "NoDocbcCost              -0.062192 -0.046547  ...      -0.222024     1.000000   \n",
       "GenHlth                  -0.274502 -0.098750  ...      -0.035508     0.169080   \n",
       "MentHlth                 -0.131285 -0.062568  ...      -0.053553     0.193207   \n",
       "PhysHlth                 -0.236753 -0.047759  ...      -0.003168     0.156665   \n",
       "DiffWalk                 -0.278581 -0.050546  ...       0.008360     0.126157   \n",
       "Sex                       0.050210 -0.084587  ...      -0.007323    -0.047651   \n",
       "Age                      -0.100950  0.059683  ...       0.136627    -0.130867   \n",
       "Education                 0.190979  0.099264  ...       0.109581    -0.099950   \n",
       "Income                    0.195479  0.082559  ...       0.132246    -0.196866   \n",
       "\n",
       "                       GenHlth  MentHlth  PhysHlth  DiffWalk       Sex  \\\n",
       "Diabetes_binary       0.407267  0.088467  0.212429  0.270664  0.043990   \n",
       "HighBP                0.318967  0.065371  0.171091  0.233226  0.040451   \n",
       "HighChol              0.237393  0.084570  0.142138  0.165802  0.015837   \n",
       "CholCheck             0.059744 -0.011902  0.034655  0.041699 -0.005741   \n",
       "BMI                   0.266666  0.108572  0.163866  0.243651 -0.000125   \n",
       "Smoker                0.153618  0.090703  0.118120  0.119204  0.113418   \n",
       "Stroke                0.186144  0.085285  0.158451  0.189189  0.004968   \n",
       "HeartDiseaseorAttack  0.276475  0.074334  0.195628  0.232799  0.098277   \n",
       "PhysActivity         -0.274502 -0.131285 -0.236753 -0.278581  0.050210   \n",
       "Fruits               -0.098750 -0.062568 -0.047759 -0.050546 -0.084587   \n",
       "Veggies              -0.114317 -0.050877 -0.066001 -0.084948 -0.050868   \n",
       "HvyAlcoholConsump    -0.059066  0.009480 -0.035135 -0.046881  0.013576   \n",
       "AnyHealthcare        -0.035508 -0.053553 -0.003168  0.008360 -0.007323   \n",
       "NoDocbcCost           0.169080  0.193207  0.156665  0.126157 -0.047651   \n",
       "GenHlth               1.000000  0.314604  0.553096  0.476192 -0.013258   \n",
       "MentHlth              0.314604  1.000000  0.379367  0.251182 -0.089742   \n",
       "PhysHlth              0.553096  0.379367  1.000000  0.484897 -0.045135   \n",
       "DiffWalk              0.476192  0.251182  0.484897  1.000000 -0.081795   \n",
       "Sex                  -0.013258 -0.089742 -0.045135 -0.081795  1.000000   \n",
       "Age                   0.155315 -0.102333  0.084452  0.196155  0.000966   \n",
       "Education            -0.286089 -0.107232 -0.157963 -0.200676  0.041926   \n",
       "Income               -0.383320 -0.217811 -0.277289 -0.342549  0.157297   \n",
       "\n",
       "                           Age  Education    Income  \n",
       "Diabetes_binary       0.277130  -0.168152 -0.225387  \n",
       "HighBP                0.337489  -0.141583 -0.188915  \n",
       "HighChol              0.239719  -0.087379 -0.108621  \n",
       "CholCheck             0.102343  -0.012353  0.003658  \n",
       "BMI                  -0.038444  -0.101172 -0.128307  \n",
       "Smoker                0.105822  -0.138439 -0.103361  \n",
       "Stroke                0.120977  -0.074635 -0.134853  \n",
       "HeartDiseaseorAttack  0.222926  -0.097046 -0.147634  \n",
       "PhysActivity         -0.100950   0.190979  0.195479  \n",
       "Fruits                0.059683   0.099264  0.082559  \n",
       "Veggies              -0.020113   0.153116  0.157915  \n",
       "HvyAlcoholConsump    -0.056359   0.035810  0.061733  \n",
       "AnyHealthcare         0.136627   0.109581  0.132246  \n",
       "NoDocbcCost          -0.130867  -0.099950 -0.196866  \n",
       "GenHlth               0.155315  -0.286089 -0.383320  \n",
       "MentHlth             -0.102333  -0.107232 -0.217811  \n",
       "PhysHlth              0.084452  -0.157963 -0.277289  \n",
       "DiffWalk              0.196155  -0.200676 -0.342549  \n",
       "Sex                   0.000966   0.041926  0.157297  \n",
       "Age                   1.000000  -0.103166 -0.126191  \n",
       "Education            -0.103166   1.000000  0.460916  \n",
       "Income               -0.126191   0.460916  1.000000  \n",
       "\n",
       "[22 rows x 22 columns]"
      ]
     },
     "execution_count": 17,
     "metadata": {},
     "output_type": "execute_result"
    }
   ],
   "source": [
    "df.corr()"
   ]
  },
  {
   "cell_type": "markdown",
   "metadata": {
    "id": "RHQV6oLIXia8"
   },
   "source": [
    "A few interesting correlations:\n",
    "\n",
    "Diabetes have high positive correlation with:\n",
    "- High blood pressure\n",
    "- High Cholesterol\n",
    "- General Health (self-evaluation)\n",
    "- Difficulty Walking\n",
    "- Physical Health for the past 30 days\n",
    "- BMI\n",
    "- Age\n",
    "- Heart Disease or Attack\n",
    "\n",
    "Diabetes have high negative correlation with:\n",
    "- Income"
   ]
  },
  {
   "cell_type": "code",
   "execution_count": 18,
   "metadata": {
    "colab": {
     "base_uri": "https://localhost:8080/",
     "height": 466
    },
    "id": "XXHXKYM8XhO9",
    "outputId": "23157e62-11a0-4d12-9c85-86a514452c2d"
   },
   "outputs": [
    {
     "data": {
      "text/plain": [
       "<Axes: xlabel='Age', ylabel='BMI'>"
      ]
     },
     "execution_count": 18,
     "metadata": {},
     "output_type": "execute_result"
    },
    {
     "data": {
      "image/png": "[encoded data removed]",
      "text/plain": [
       "<Figure size 640x480 with 1 Axes>"
      ]
     },
     "metadata": {},
     "output_type": "display_data"
    }
   ],
   "source": [
    "sns.scatterplot(data=df, x='Age', y='BMI', hue='Diabetes_binary')"
   ]
  },
  {
   "cell_type": "code",
   "execution_count": 19,
   "metadata": {
    "colab": {
     "base_uri": "https://localhost:8080/",
     "height": 523
    },
    "id": "cS6E61vJXPEt",
    "outputId": "fdfd0871-4812-45ae-97be-2fdbe70cb8da"
   },
   "outputs": [
    {
     "data": {
      "text/plain": [
       "<seaborn.axisgrid.FacetGrid at 0x7b7404a21360>"
      ]
     },
     "execution_count": 19,
     "metadata": {},
     "output_type": "execute_result"
    },
    {
     "data": {
      "image/png": "[encoded data removed]",
      "text/plain": [
       "<Figure size 580.875x500 with 1 Axes>"
      ]
     },
     "metadata": {},
     "output_type": "display_data"
    }
   ],
   "source": [
    "sns.displot(data=df, x='BMI', hue='Age')"
   ]
  },
  {
   "cell_type": "code",
   "execution_count": 20,
   "metadata": {
    "colab": {
     "base_uri": "https://localhost:8080/",
     "height": 466
    },
    "id": "qr7kqF14Y_L0",
    "outputId": "fb324298-7f7d-4286-a46f-c057cbd29dcb"
   },
   "outputs": [
    {
     "data": {
      "text/plain": [
       "<Axes: xlabel='Age', ylabel='BMI'>"
      ]
     },
     "execution_count": 20,
     "metadata": {},
     "output_type": "execute_result"
    },
    {
     "data": {
      "image/png": "[encoded data removed]",
      "text/plain": [
       "<Figure size 640x480 with 1 Axes>"
      ]
     },
     "metadata": {},
     "output_type": "display_data"
    }
   ],
   "source": [
    "sns.boxplot(data=df, x='Age', y='BMI', hue='Diabetes_binary')"
   ]
  },
  {
   "cell_type": "markdown",
   "metadata": {
    "id": "cECC4BpUZjHI"
   },
   "source": [
    "We can see that at every age group, there's always people with higher BMI weights than the norm.\n",
    "\n",
    "A general trend that we can see here is that people who have higher BMI at their age group usually has diabetes."
   ]
  },
  {
   "cell_type": "code",
   "execution_count": 21,
   "metadata": {
    "colab": {
     "base_uri": "https://localhost:8080/",
     "height": 466
    },
    "id": "NltQ7HuiZJvk",
    "outputId": "a88a6858-9f03-4b8c-acc3-a74e529dea12"
   },
   "outputs": [
    {
     "data": {
      "text/plain": [
       "<Axes: xlabel='HighBP', ylabel='HighChol'>"
      ]
     },
     "execution_count": 21,
     "metadata": {},
     "output_type": "execute_result"
    },
    {
     "data": {
      "image/png": "[encoded data removed]",
      "text/plain": [
       "<Figure size 640x480 with 1 Axes>"
      ]
     },
     "metadata": {},
     "output_type": "display_data"
    }
   ],
   "source": [
    "sns.lineplot(data=df, x='HighBP', y='HighChol', hue='PhysActivity')"
   ]
  },
  {
   "cell_type": "markdown",
   "metadata": {
    "id": "8TPlaSY5aq9U"
   },
   "source": [
    "People with less activity tend to have higher Cholesterol and Blood Pressure than those who regularly exercise. The difference is substantial."
   ]
  },
  {
   "cell_type": "code",
   "execution_count": 22,
   "metadata": {
    "colab": {
     "base_uri": "https://localhost:8080/",
     "height": 523
    },
    "id": "3Z78l5beaqVd",
    "outputId": "81c451e9-2151-4d69-e5db-fe7b51acf7cf"
   },
   "outputs": [
    {
     "data": {
      "text/plain": [
       "<seaborn.axisgrid.FacetGrid at 0x7b7404ca2980>"
      ]
     },
     "execution_count": 22,
     "metadata": {},
     "output_type": "execute_result"
    },
    {
     "data": {
      "image/png": "[encoded data removed]",
      "text/plain": [
       "<Figure size 572x500 with 1 Axes>"
      ]
     },
     "metadata": {},
     "output_type": "display_data"
    }
   ],
   "source": [
    "sns.displot(data=df, x='Age', hue='DiffWalk', kind='kde')"
   ]
  },
  {
   "cell_type": "code",
   "execution_count": 23,
   "metadata": {
    "colab": {
     "base_uri": "https://localhost:8080/",
     "height": 466
    },
    "id": "qx1m5y0WaPpc",
    "outputId": "45315b51-c2ce-40f5-8dd4-f26d3df9e7a2"
   },
   "outputs": [
    {
     "data": {
      "text/plain": [
       "<Axes: xlabel='Fruits', ylabel='Age'>"
      ]
     },
     "execution_count": 23,
     "metadata": {},
     "output_type": "execute_result"
    },
    {
     "data": {
      "image/png": "[encoded data removed]",
      "text/plain": [
       "<Figure size 640x480 with 1 Axes>"
      ]
     },
     "metadata": {},
     "output_type": "display_data"
    }
   ],
   "source": [
    "sns.boxplot(data=df, x='Fruits', y='Age')"
   ]
  },
  {
   "cell_type": "markdown",
   "metadata": {
    "id": "f7wZYnnNmoHH"
   },
   "source": [
    "it looks like fruit is just prefrence i.e doesn't have any relationship between age and fruit"
   ]
  },
  {
   "cell_type": "code",
   "execution_count": 24,
   "metadata": {
    "colab": {
     "base_uri": "https://localhost:8080/",
     "height": 428
    },
    "id": "i62T7cqEmU4c",
    "outputId": "859d7526-6a4e-47cb-ce16-3b45194e742b"
   },
   "outputs": [
    {
     "data": {
      "text/plain": [
       "<Axes: ylabel='Age'>"
      ]
     },
     "execution_count": 24,
     "metadata": {},
     "output_type": "execute_result"
    },
    {
     "data": {
      "image/png": "[encoded data removed]",
      "text/plain": [
       "<Figure size 640x480 with 1 Axes>"
      ]
     },
     "metadata": {},
     "output_type": "display_data"
    }
   ],
   "source": [
    "sns.boxplot(data=df, y='Age', fill=False, hue='Diabetes_binary')"
   ]
  },
  {
   "cell_type": "code",
   "execution_count": 25,
   "metadata": {
    "colab": {
     "base_uri": "https://localhost:8080/",
     "height": 466
    },
    "id": "iLFBZIbBnG3_",
    "outputId": "df63f18e-3147-4000-cad6-eed52d0349a2"
   },
   "outputs": [
    {
     "data": {
      "text/plain": [
       "<Axes: xlabel='Education', ylabel='PhysActivity'>"
      ]
     },
     "execution_count": 25,
     "metadata": {},
     "output_type": "execute_result"
    },
    {
     "data": {
      "image/png": "[encoded data removed]",
      "text/plain": [
       "<Figure size 640x480 with 1 Axes>"
      ]
     },
     "metadata": {},
     "output_type": "display_data"
    }
   ],
   "source": [
    "sns.violinplot(data=df, x='Education', y='PhysActivity')"
   ]
  },
  {
   "cell_type": "code",
   "execution_count": 26,
   "metadata": {
    "colab": {
     "base_uri": "https://localhost:8080/",
     "height": 467
    },
    "id": "DJ1nG-mmoQBw",
    "outputId": "c9498b3c-adc3-4cb5-8dc1-37cff4b8fa96"
   },
   "outputs": [
    {
     "data": {
      "text/plain": [
       "<Axes: xlabel='Diabetes_binary', ylabel='PhysActivity'>"
      ]
     },
     "execution_count": 26,
     "metadata": {},
     "output_type": "execute_result"
    },
    {
     "data": {
      "image/png": "[encoded data removed]",
      "text/plain": [
       "<Figure size 640x480 with 1 Axes>"
      ]
     },
     "metadata": {},
     "output_type": "display_data"
    }
   ],
   "source": [
    "sns.lineplot(data=df, x='Diabetes_binary', y='PhysActivity')"
   ]
  },
  {
   "cell_type": "markdown",
   "metadata": {
    "id": "n-vTh8aInx3U"
   },
   "source": [
    "Except for younger ages (earlier education group), people tend to spend more time and effort exercising. This might be due to the fact that the significance of exercising have been shown in many areas of study.\n",
    "\n",
    "From the earlier plots, we can see that less activity can be an indicator of Diabetes. A better way to say it would be because of the lack of exercise, one have a higher chance of being diagnosed with Diabetes."
   ]
  },
  {
   "cell_type": "markdown",
   "metadata": {
    "id": "enf2EKkeornR"
   },
   "source": [
    "# Models"
   ]
  },
  {
   "cell_type": "markdown",
   "metadata": {
    "id": "MCEPp6hWotF4"
   },
   "source": [
    "## XGBoost"
   ]
  },
  {
   "cell_type": "code",
   "execution_count": 42,
   "metadata": {
    "id": "RK4muQJsnfVf"
   },
   "outputs": [],
   "source": [
    "from xgboost import XGBClassifier\n",
    "import time\n",
    "from sklearn.metrics import accuracy_score\n",
    "from sklearn.model_selection import GridSearchCV"
   ]
  },
  {
   "cell_type": "code",
   "execution_count": 43,
   "metadata": {
    "id": "zsha4aZEpAfW"
   },
   "outputs": [],
   "source": [
    "XGB_clf = XGBClassifier(n_estimators=50, max_depth=10, learning_rate=0.01,\n",
    "                        objective='binary:logistic')"
   ]
  },
  {
   "cell_type": "code",
   "execution_count": 44,
   "metadata": {
    "id": "LIvjnGo1pnCf"
   },
   "outputs": [],
   "source": [
    "t0 = time.time()\n",
    "XGB_clf.fit(x_train, y_train)\n",
    "t1 = time.time()"
   ]
  },
  {
   "cell_type": "code",
   "execution_count": 45,
   "metadata": {
    "colab": {
     "base_uri": "https://localhost:8080/"
    },
    "id": "8_zouprJp4ey",
    "outputId": "a71506d4-056c-4589-a8fa-9592378ae527"
   },
   "outputs": [
    {
     "name": "stdout",
     "output_type": "stream",
     "text": [
      "Training takes 0.18903064727783203s\n"
     ]
    }
   ],
   "source": [
    "print(f\"Training takes {(t1 - t0)}s\")"
   ]
  },
  {
   "cell_type": "code",
   "execution_count": 31,
   "metadata": {
    "colab": {
     "base_uri": "https://localhost:8080/"
    },
    "id": "maiJQkg-qGiK",
    "outputId": "e4f310ed-7ea6-43ba-984e-ccf96d3c1cd3"
   },
   "outputs": [
    {
     "data": {
      "text/plain": [
       "0.7816738280904638"
      ]
     },
     "execution_count": 31,
     "metadata": {},
     "output_type": "execute_result"
    }
   ],
   "source": [
    "accuracy_score(y_train, XGB_clf.predict(x_train))"
   ]
  },
  {
   "cell_type": "code",
   "execution_count": 32,
   "metadata": {
    "id": "SHIT7LfTrGqw"
   },
   "outputs": [],
   "source": [
    "params = {'n_estimators': [10, 100, 200], 'learning_rate': [0.1, 0.01, 0.001],\n",
    "          'max_depth': [3, 6, 10, 25],\n",
    "          'reg_alpha': [0, 0.1]}\n",
    "\n",
    "clf = GridSearchCV(XGBClassifier(objective= 'binary:logistic'), params, verbose=1)\n"
   ]
  },
  {
   "cell_type": "code",
   "execution_count": 33,
   "metadata": {
    "colab": {
     "base_uri": "https://localhost:8080/"
    },
    "id": "QmgT3Z2CtxV3",
    "outputId": "37e64f00-59f1-4aa5-8565-2831c46be32a"
   },
   "outputs": [
    {
     "name": "stdout",
     "output_type": "stream",
     "text": [
      "Fitting 5 folds for each of 72 candidates, totalling 360 fits\n"
     ]
    }
   ],
   "source": [
    "t0 = time.time()\n",
    "clf.fit(x_train, y_train)\n",
    "t1 = time.time()"
   ]
  },
  {
   "cell_type": "code",
   "execution_count": 34,
   "metadata": {
    "id": "rBlJSXomt7XM"
   },
   "outputs": [
    {
     "name": "stdout",
     "output_type": "stream",
     "text": [
      "Training takes 125.47057437896729s\n"
     ]
    }
   ],
   "source": [
    "print(f\"Training takes {t1-t0}s\")"
   ]
  },
  {
   "cell_type": "code",
   "execution_count": 35,
   "metadata": {},
   "outputs": [
    {
     "data": {
      "text/plain": [
       "0.7515780175648049"
      ]
     },
     "execution_count": 35,
     "metadata": {},
     "output_type": "execute_result"
    }
   ],
   "source": [
    "clf.best_score_"
   ]
  },
  {
   "cell_type": "code",
   "execution_count": 36,
   "metadata": {},
   "outputs": [
    {
     "data": {
      "text/plain": [
       "{'learning_rate': 0.1, 'max_depth': 6, 'n_estimators': 100, 'reg_alpha': 0.1}"
      ]
     },
     "execution_count": 36,
     "metadata": {},
     "output_type": "execute_result"
    }
   ],
   "source": [
    "clf.best_params_"
   ]
  },
  {
   "cell_type": "markdown",
   "metadata": {},
   "source": [
    "## Logistic Regression"
   ]
  },
  {
   "cell_type": "code",
   "execution_count": 47,
   "metadata": {},
   "outputs": [],
   "source": [
    "from sklearn.linear_model import LogisticRegression"
   ]
  },
  {
   "cell_type": "code",
   "execution_count": 51,
   "metadata": {},
   "outputs": [],
   "source": [
    "lr = LogisticRegression(solver='newton-cholesky')"
   ]
  },
  {
   "cell_type": "code",
   "execution_count": 54,
   "metadata": {},
   "outputs": [],
   "source": [
    "t0 = time.time()\n",
    "lr.fit(x_train, y_train)\n",
    "t1 = time.time()"
   ]
  },
  {
   "cell_type": "code",
   "execution_count": 55,
   "metadata": {},
   "outputs": [
    {
     "name": "stdout",
     "output_type": "stream",
     "text": [
      "Training takes 0.03507280349731445s\n"
     ]
    }
   ],
   "source": [
    "print(f\"Training takes {t1-t0}s\")"
   ]
  },
  {
   "cell_type": "code",
   "execution_count": 56,
   "metadata": {},
   "outputs": [
    {
     "data": {
      "text/plain": [
       "0.7476172793662582"
      ]
     },
     "execution_count": 56,
     "metadata": {},
     "output_type": "execute_result"
    }
   ],
   "source": [
    "accuracy_score(y_train, lr.predict(x_train))"
   ]
  },
  {
   "cell_type": "markdown",
   "metadata": {},
   "source": [
    "## Random Forest"
   ]
  },
  {
   "cell_type": "code",
   "execution_count": 58,
   "metadata": {},
   "outputs": [],
   "source": [
    "from sklearn.ensemble import RandomForestClassifier"
   ]
  },
  {
   "cell_type": "code",
   "execution_count": 60,
   "metadata": {},
   "outputs": [
    {
     "data": {
      "text/html": [
       "<style>#sk-container-id-3 {\n",
       "  /* Definition of color scheme common for light and dark mode */\n",
       "  --sklearn-color-text: black;\n",
       "  --sklearn-color-line: gray;\n",
       "  /* Definition of color scheme for unfitted estimators */\n",
       "  --sklearn-color-unfitted-level-0: #fff5e6;\n",
       "  --sklearn-color-unfitted-level-1: #f6e4d2;\n",
       "  --sklearn-color-unfitted-level-2: #ffe0b3;\n",
       "  --sklearn-color-unfitted-level-3: chocolate;\n",
       "  /* Definition of color scheme for fitted estimators */\n",
       "  --sklearn-color-fitted-level-0: #f0f8ff;\n",
       "  --sklearn-color-fitted-level-1: #d4ebff;\n",
       "  --sklearn-color-fitted-level-2: #b3dbfd;\n",
       "  --sklearn-color-fitted-level-3: cornflowerblue;\n",
       "\n",
       "  /* Specific color for light theme */\n",
       "  --sklearn-color-text-on-default-background: var(--sg-text-color, var(--theme-code-foreground, var(--jp-content-font-color1, black)));\n",
       "  --sklearn-color-background: var(--sg-background-color, var(--theme-background, var(--jp-layout-color0, white)));\n",
       "  --sklearn-color-border-box: var(--sg-text-color, var(--theme-code-foreground, var(--jp-content-font-color1, black)));\n",
       "  --sklearn-color-icon: #696969;\n",
       "\n",
       "  @media (prefers-color-scheme: dark) {\n",
       "    /* Redefinition of color scheme for dark theme */\n",
       "    --sklearn-color-text-on-default-background: var(--sg-text-color, var(--theme-code-foreground, var(--jp-content-font-color1, white)));\n",
       "    --sklearn-color-background: var(--sg-background-color, var(--theme-background, var(--jp-layout-color0, #111)));\n",
       "    --sklearn-color-border-box: var(--sg-text-color, var(--theme-code-foreground, var(--jp-content-font-color1, white)));\n",
       "    --sklearn-color-icon: #878787;\n",
       "  }\n",
       "}\n",
       "\n",
       "#sk-container-id-3 {\n",
       "  color: var(--sklearn-color-text);\n",
       "}\n",
       "\n",
       "#sk-container-id-3 pre {\n",
       "  padding: 0;\n",
       "}\n",
       "\n",
       "#sk-container-id-3 input.sk-hidden--visually {\n",
       "  border: 0;\n",
       "  clip: rect(1px 1px 1px 1px);\n",
       "  clip: rect(1px, 1px, 1px, 1px);\n",
       "  height: 1px;\n",
       "  margin: -1px;\n",
       "  overflow: hidden;\n",
       "  padding: 0;\n",
       "  position: absolute;\n",
       "  width: 1px;\n",
       "}\n",
       "\n",
       "#sk-container-id-3 div.sk-dashed-wrapped {\n",
       "  border: 1px dashed var(--sklearn-color-line);\n",
       "  margin: 0 0.4em 0.5em 0.4em;\n",
       "  box-sizing: border-box;\n",
       "  padding-bottom: 0.4em;\n",
       "  background-color: var(--sklearn-color-background);\n",
       "}\n",
       "\n",
       "#sk-container-id-3 div.sk-container {\n",
       "  /* jupyter's `normalize.less` sets `[hidden] { display: none; }`\n",
       "     but bootstrap.min.css set `[hidden] { display: none !important; }`\n",
       "     so we also need the `!important` here to be able to override the\n",
       "     default hidden behavior on the sphinx rendered scikit-learn.org.\n",
       "     See: https://github.com/scikit-learn/scikit-learn/issues/21755 */\n",
       "  display: inline-block !important;\n",
       "  position: relative;\n",
       "}\n",
       "\n",
       "#sk-container-id-3 div.sk-text-repr-fallback {\n",
       "  display: none;\n",
       "}\n",
       "\n",
       "div.sk-parallel-item,\n",
       "div.sk-serial,\n",
       "div.sk-item {\n",
       "  /* draw centered vertical line to link estimators */\n",
       "  background-image: linear-gradient(var(--sklearn-color-text-on-default-background), var(--sklearn-color-text-on-default-background));\n",
       "  background-size: 2px 100%;\n",
       "  background-repeat: no-repeat;\n",
       "  background-position: center center;\n",
       "}\n",
       "\n",
       "/* Parallel-specific style estimator block */\n",
       "\n",
       "#sk-container-id-3 div.sk-parallel-item::after {\n",
       "  content: \"\";\n",
       "  width: 100%;\n",
       "  border-bottom: 2px solid var(--sklearn-color-text-on-default-background);\n",
       "  flex-grow: 1;\n",
       "}\n",
       "\n",
       "#sk-container-id-3 div.sk-parallel {\n",
       "  display: flex;\n",
       "  align-items: stretch;\n",
       "  justify-content: center;\n",
       "  background-color: var(--sklearn-color-background);\n",
       "  position: relative;\n",
       "}\n",
       "\n",
       "#sk-container-id-3 div.sk-parallel-item {\n",
       "  display: flex;\n",
       "  flex-direction: column;\n",
       "}\n",
       "\n",
       "#sk-container-id-3 div.sk-parallel-item:first-child::after {\n",
       "  align-self: flex-end;\n",
       "  width: 50%;\n",
       "}\n",
       "\n",
       "#sk-container-id-3 div.sk-parallel-item:last-child::after {\n",
       "  align-self: flex-start;\n",
       "  width: 50%;\n",
       "}\n",
       "\n",
       "#sk-container-id-3 div.sk-parallel-item:only-child::after {\n",
       "  width: 0;\n",
       "}\n",
       "\n",
       "/* Serial-specific style estimator block */\n",
       "\n",
       "#sk-container-id-3 div.sk-serial {\n",
       "  display: flex;\n",
       "  flex-direction: column;\n",
       "  align-items: center;\n",
       "  background-color: var(--sklearn-color-background);\n",
       "  padding-right: 1em;\n",
       "  padding-left: 1em;\n",
       "}\n",
       "\n",
       "\n",
       "/* Toggleable style: style used for estimator/Pipeline/ColumnTransformer box that is\n",
       "clickable and can be expanded/collapsed.\n",
       "- Pipeline and ColumnTransformer use this feature and define the default style\n",
       "- Estimators will overwrite some part of the style using the `sk-estimator` class\n",
       "*/\n",
       "\n",
       "/* Pipeline and ColumnTransformer style (default) */\n",
       "\n",
       "#sk-container-id-3 div.sk-toggleable {\n",
       "  /* Default theme specific background. It is overwritten whether we have a\n",
       "  specific estimator or a Pipeline/ColumnTransformer */\n",
       "  background-color: var(--sklearn-color-background);\n",
       "}\n",
       "\n",
       "/* Toggleable label */\n",
       "#sk-container-id-3 label.sk-toggleable__label {\n",
       "  cursor: pointer;\n",
       "  display: block;\n",
       "  width: 100%;\n",
       "  margin-bottom: 0;\n",
       "  padding: 0.5em;\n",
       "  box-sizing: border-box;\n",
       "  text-align: center;\n",
       "}\n",
       "\n",
       "#sk-container-id-3 label.sk-toggleable__label-arrow:before {\n",
       "  /* Arrow on the left of the label */\n",
       "  content: \"▸\";\n",
       "  float: left;\n",
       "  margin-right: 0.25em;\n",
       "  color: var(--sklearn-color-icon);\n",
       "}\n",
       "\n",
       "#sk-container-id-3 label.sk-toggleable__label-arrow:hover:before {\n",
       "  color: var(--sklearn-color-text);\n",
       "}\n",
       "\n",
       "/* Toggleable content - dropdown */\n",
       "\n",
       "#sk-container-id-3 div.sk-toggleable__content {\n",
       "  max-height: 0;\n",
       "  max-width: 0;\n",
       "  overflow: hidden;\n",
       "  text-align: left;\n",
       "  /* unfitted */\n",
       "  background-color: var(--sklearn-color-unfitted-level-0);\n",
       "}\n",
       "\n",
       "#sk-container-id-3 div.sk-toggleable__content.fitted {\n",
       "  /* fitted */\n",
       "  background-color: var(--sklearn-color-fitted-level-0);\n",
       "}\n",
       "\n",
       "#sk-container-id-3 div.sk-toggleable__content pre {\n",
       "  margin: 0.2em;\n",
       "  border-radius: 0.25em;\n",
       "  color: var(--sklearn-color-text);\n",
       "  /* unfitted */\n",
       "  background-color: var(--sklearn-color-unfitted-level-0);\n",
       "}\n",
       "\n",
       "#sk-container-id-3 div.sk-toggleable__content.fitted pre {\n",
       "  /* unfitted */\n",
       "  background-color: var(--sklearn-color-fitted-level-0);\n",
       "}\n",
       "\n",
       "#sk-container-id-3 input.sk-toggleable__control:checked~div.sk-toggleable__content {\n",
       "  /* Expand drop-down */\n",
       "  max-height: 200px;\n",
       "  max-width: 100%;\n",
       "  overflow: auto;\n",
       "}\n",
       "\n",
       "#sk-container-id-3 input.sk-toggleable__control:checked~label.sk-toggleable__label-arrow:before {\n",
       "  content: \"▾\";\n",
       "}\n",
       "\n",
       "/* Pipeline/ColumnTransformer-specific style */\n",
       "\n",
       "#sk-container-id-3 div.sk-label input.sk-toggleable__control:checked~label.sk-toggleable__label {\n",
       "  color: var(--sklearn-color-text);\n",
       "  background-color: var(--sklearn-color-unfitted-level-2);\n",
       "}\n",
       "\n",
       "#sk-container-id-3 div.sk-label.fitted input.sk-toggleable__control:checked~label.sk-toggleable__label {\n",
       "  background-color: var(--sklearn-color-fitted-level-2);\n",
       "}\n",
       "\n",
       "/* Estimator-specific style */\n",
       "\n",
       "/* Colorize estimator box */\n",
       "#sk-container-id-3 div.sk-estimator input.sk-toggleable__control:checked~label.sk-toggleable__label {\n",
       "  /* unfitted */\n",
       "  background-color: var(--sklearn-color-unfitted-level-2);\n",
       "}\n",
       "\n",
       "#sk-container-id-3 div.sk-estimator.fitted input.sk-toggleable__control:checked~label.sk-toggleable__label {\n",
       "  /* fitted */\n",
       "  background-color: var(--sklearn-color-fitted-level-2);\n",
       "}\n",
       "\n",
       "#sk-container-id-3 div.sk-label label.sk-toggleable__label,\n",
       "#sk-container-id-3 div.sk-label label {\n",
       "  /* The background is the default theme color */\n",
       "  color: var(--sklearn-color-text-on-default-background);\n",
       "}\n",
       "\n",
       "/* On hover, darken the color of the background */\n",
       "#sk-container-id-3 div.sk-label:hover label.sk-toggleable__label {\n",
       "  color: var(--sklearn-color-text);\n",
       "  background-color: var(--sklearn-color-unfitted-level-2);\n",
       "}\n",
       "\n",
       "/* Label box, darken color on hover, fitted */\n",
       "#sk-container-id-3 div.sk-label.fitted:hover label.sk-toggleable__label.fitted {\n",
       "  color: var(--sklearn-color-text);\n",
       "  background-color: var(--sklearn-color-fitted-level-2);\n",
       "}\n",
       "\n",
       "/* Estimator label */\n",
       "\n",
       "#sk-container-id-3 div.sk-label label {\n",
       "  font-family: monospace;\n",
       "  font-weight: bold;\n",
       "  display: inline-block;\n",
       "  line-height: 1.2em;\n",
       "}\n",
       "\n",
       "#sk-container-id-3 div.sk-label-container {\n",
       "  text-align: center;\n",
       "}\n",
       "\n",
       "/* Estimator-specific */\n",
       "#sk-container-id-3 div.sk-estimator {\n",
       "  font-family: monospace;\n",
       "  border: 1px dotted var(--sklearn-color-border-box);\n",
       "  border-radius: 0.25em;\n",
       "  box-sizing: border-box;\n",
       "  margin-bottom: 0.5em;\n",
       "  /* unfitted */\n",
       "  background-color: var(--sklearn-color-unfitted-level-0);\n",
       "}\n",
       "\n",
       "#sk-container-id-3 div.sk-estimator.fitted {\n",
       "  /* fitted */\n",
       "  background-color: var(--sklearn-color-fitted-level-0);\n",
       "}\n",
       "\n",
       "/* on hover */\n",
       "#sk-container-id-3 div.sk-estimator:hover {\n",
       "  /* unfitted */\n",
       "  background-color: var(--sklearn-color-unfitted-level-2);\n",
       "}\n",
       "\n",
       "#sk-container-id-3 div.sk-estimator.fitted:hover {\n",
       "  /* fitted */\n",
       "  background-color: var(--sklearn-color-fitted-level-2);\n",
       "}\n",
       "\n",
       "/* Specification for estimator info (e.g. \"i\" and \"?\") */\n",
       "\n",
       "/* Common style for \"i\" and \"?\" */\n",
       "\n",
       ".sk-estimator-doc-link,\n",
       "a:link.sk-estimator-doc-link,\n",
       "a:visited.sk-estimator-doc-link {\n",
       "  float: right;\n",
       "  font-size: smaller;\n",
       "  line-height: 1em;\n",
       "  font-family: monospace;\n",
       "  background-color: var(--sklearn-color-background);\n",
       "  border-radius: 1em;\n",
       "  height: 1em;\n",
       "  width: 1em;\n",
       "  text-decoration: none !important;\n",
       "  margin-left: 1ex;\n",
       "  /* unfitted */\n",
       "  border: var(--sklearn-color-unfitted-level-1) 1pt solid;\n",
       "  color: var(--sklearn-color-unfitted-level-1);\n",
       "}\n",
       "\n",
       ".sk-estimator-doc-link.fitted,\n",
       "a:link.sk-estimator-doc-link.fitted,\n",
       "a:visited.sk-estimator-doc-link.fitted {\n",
       "  /* fitted */\n",
       "  border: var(--sklearn-color-fitted-level-1) 1pt solid;\n",
       "  color: var(--sklearn-color-fitted-level-1);\n",
       "}\n",
       "\n",
       "/* On hover */\n",
       "div.sk-estimator:hover .sk-estimator-doc-link:hover,\n",
       ".sk-estimator-doc-link:hover,\n",
       "div.sk-label-container:hover .sk-estimator-doc-link:hover,\n",
       ".sk-estimator-doc-link:hover {\n",
       "  /* unfitted */\n",
       "  background-color: var(--sklearn-color-unfitted-level-3);\n",
       "  color: var(--sklearn-color-background);\n",
       "  text-decoration: none;\n",
       "}\n",
       "\n",
       "div.sk-estimator.fitted:hover .sk-estimator-doc-link.fitted:hover,\n",
       ".sk-estimator-doc-link.fitted:hover,\n",
       "div.sk-label-container:hover .sk-estimator-doc-link.fitted:hover,\n",
       ".sk-estimator-doc-link.fitted:hover {\n",
       "  /* fitted */\n",
       "  background-color: var(--sklearn-color-fitted-level-3);\n",
       "  color: var(--sklearn-color-background);\n",
       "  text-decoration: none;\n",
       "}\n",
       "\n",
       "/* Span, style for the box shown on hovering the info icon */\n",
       ".sk-estimator-doc-link span {\n",
       "  display: none;\n",
       "  z-index: 9999;\n",
       "  position: relative;\n",
       "  font-weight: normal;\n",
       "  right: .2ex;\n",
       "  padding: .5ex;\n",
       "  margin: .5ex;\n",
       "  width: min-content;\n",
       "  min-width: 20ex;\n",
       "  max-width: 50ex;\n",
       "  color: var(--sklearn-color-text);\n",
       "  box-shadow: 2pt 2pt 4pt #999;\n",
       "  /* unfitted */\n",
       "  background: var(--sklearn-color-unfitted-level-0);\n",
       "  border: .5pt solid var(--sklearn-color-unfitted-level-3);\n",
       "}\n",
       "\n",
       ".sk-estimator-doc-link.fitted span {\n",
       "  /* fitted */\n",
       "  background: var(--sklearn-color-fitted-level-0);\n",
       "  border: var(--sklearn-color-fitted-level-3);\n",
       "}\n",
       "\n",
       ".sk-estimator-doc-link:hover span {\n",
       "  display: block;\n",
       "}\n",
       "\n",
       "/* \"?\"-specific style due to the `<a>` HTML tag */\n",
       "\n",
       "#sk-container-id-3 a.estimator_doc_link {\n",
       "  float: right;\n",
       "  font-size: 1rem;\n",
       "  line-height: 1em;\n",
       "  font-family: monospace;\n",
       "  background-color: var(--sklearn-color-background);\n",
       "  border-radius: 1rem;\n",
       "  height: 1rem;\n",
       "  width: 1rem;\n",
       "  text-decoration: none;\n",
       "  /* unfitted */\n",
       "  color: var(--sklearn-color-unfitted-level-1);\n",
       "  border: var(--sklearn-color-unfitted-level-1) 1pt solid;\n",
       "}\n",
       "\n",
       "#sk-container-id-3 a.estimator_doc_link.fitted {\n",
       "  /* fitted */\n",
       "  border: var(--sklearn-color-fitted-level-1) 1pt solid;\n",
       "  color: var(--sklearn-color-fitted-level-1);\n",
       "}\n",
       "\n",
       "/* On hover */\n",
       "#sk-container-id-3 a.estimator_doc_link:hover {\n",
       "  /* unfitted */\n",
       "  background-color: var(--sklearn-color-unfitted-level-3);\n",
       "  color: var(--sklearn-color-background);\n",
       "  text-decoration: none;\n",
       "}\n",
       "\n",
       "#sk-container-id-3 a.estimator_doc_link.fitted:hover {\n",
       "  /* fitted */\n",
       "  background-color: var(--sklearn-color-fitted-level-3);\n",
       "}\n",
       "</style><div id=\"sk-container-id-3\" class=\"sk-top-container\"><div class=\"sk-text-repr-fallback\"><pre>GridSearchCV(estimator=RandomForestClassifier(),\n",
       "             param_grid={&#x27;bootstrap&#x27;: [True, False], &#x27;max_depth&#x27;: [50, 25, 10],\n",
       "                         &#x27;n_estimators&#x27;: [10, 50, 100, 150, 200]})</pre><b>In a Jupyter environment, please rerun this cell to show the HTML representation or trust the notebook. <br />On GitHub, the HTML representation is unable to render, please try loading this page with nbviewer.org.</b></div><div class=\"sk-container\" hidden><div class=\"sk-item sk-dashed-wrapped\"><div class=\"sk-label-container\"><div class=\"sk-label fitted sk-toggleable\"><input class=\"sk-toggleable__control sk-hidden--visually\" id=\"sk-estimator-id-3\" type=\"checkbox\" ><label for=\"sk-estimator-id-3\" class=\"sk-toggleable__label fitted sk-toggleable__label-arrow fitted\">&nbsp;&nbsp;GridSearchCV<a class=\"sk-estimator-doc-link fitted\" rel=\"noreferrer\" target=\"_blank\" href=\"https://scikit-learn.org/1.4/modules/generated/sklearn.model_selection.GridSearchCV.html\">?<span>Documentation for GridSearchCV</span></a><span class=\"sk-estimator-doc-link fitted\">i<span>Fitted</span></span></label><div class=\"sk-toggleable__content fitted\"><pre>GridSearchCV(estimator=RandomForestClassifier(),\n",
       "             param_grid={&#x27;bootstrap&#x27;: [True, False], &#x27;max_depth&#x27;: [50, 25, 10],\n",
       "                         &#x27;n_estimators&#x27;: [10, 50, 100, 150, 200]})</pre></div> </div></div><div class=\"sk-parallel\"><div class=\"sk-parallel-item\"><div class=\"sk-item\"><div class=\"sk-label-container\"><div class=\"sk-label fitted sk-toggleable\"><input class=\"sk-toggleable__control sk-hidden--visually\" id=\"sk-estimator-id-4\" type=\"checkbox\" ><label for=\"sk-estimator-id-4\" class=\"sk-toggleable__label fitted sk-toggleable__label-arrow fitted\">estimator: RandomForestClassifier</label><div class=\"sk-toggleable__content fitted\"><pre>RandomForestClassifier()</pre></div> </div></div><div class=\"sk-serial\"><div class=\"sk-item\"><div class=\"sk-estimator fitted sk-toggleable\"><input class=\"sk-toggleable__control sk-hidden--visually\" id=\"sk-estimator-id-5\" type=\"checkbox\" ><label for=\"sk-estimator-id-5\" class=\"sk-toggleable__label fitted sk-toggleable__label-arrow fitted\">&nbsp;RandomForestClassifier<a class=\"sk-estimator-doc-link fitted\" rel=\"noreferrer\" target=\"_blank\" href=\"https://scikit-learn.org/1.4/modules/generated/sklearn.ensemble.RandomForestClassifier.html\">?<span>Documentation for RandomForestClassifier</span></a></label><div class=\"sk-toggleable__content fitted\"><pre>RandomForestClassifier()</pre></div> </div></div></div></div></div></div></div></div></div>"
      ],
      "text/plain": [
       "GridSearchCV(estimator=RandomForestClassifier(),\n",
       "             param_grid={'bootstrap': [True, False], 'max_depth': [50, 25, 10],\n",
       "                         'n_estimators': [10, 50, 100, 150, 200]})"
      ]
     },
     "execution_count": 60,
     "metadata": {},
     "output_type": "execute_result"
    }
   ],
   "source": [
    "params = {'n_estimators': [10, 50, 100, 150, 200], 'max_depth':[50, 25, 10], 'bootstrap':[True, False]}\n",
    "clf = GridSearchCV(RandomForestClassifier(), params)\n",
    "clf.fit(x_train, y_train)"
   ]
  },
  {
   "cell_type": "code",
   "execution_count": 61,
   "metadata": {},
   "outputs": [
    {
     "data": {
      "text/plain": [
       "0.7499158749481445"
      ]
     },
     "execution_count": 61,
     "metadata": {},
     "output_type": "execute_result"
    }
   ],
   "source": [
    "clf.best_score_"
   ]
  },
  {
   "cell_type": "code",
   "execution_count": null,
   "metadata": {},
   "outputs": [],
   "source": []
  }
 ],
 "metadata": {
  "colab": {
   "provenance": []
  },
  "kernelspec": {
   "display_name": "Python 3 (ipykernel)",
   "language": "python",
   "name": "python3"
  },
  "language_info": {
   "codemirror_mode": {
    "name": "ipython",
    "version": 3
   },
   "file_extension": ".py",
   "mimetype": "text/x-python",
   "name": "python",
   "nbconvert_exporter": "python",
   "pygments_lexer": "ipython3",
   "version": "3.10.12"
  }
 },
 "nbformat": 4,
 "nbformat_minor": 4
}
